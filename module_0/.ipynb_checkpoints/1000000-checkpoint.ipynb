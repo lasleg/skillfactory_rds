{
 "cells": [
  {
   "cell_type": "code",
   "execution_count": 3,
   "metadata": {
    "_cell_guid": "b1076dfc-b9ad-4769-8c92-a6c4dae69d19",
    "_uuid": "8f2839f25d086af736a60e9eeb907d3b93b6e0e5"
   },
   "outputs": [
    {
     "ename": "FileNotFoundError",
     "evalue": "[WinError 3] Системе не удается найти указанный путь: 'skillfactory_rds'",
     "output_type": "error",
     "traceback": [
      "\u001b[1;31m---------------------------------------------------------------------------\u001b[0m",
      "\u001b[1;31mFileNotFoundError\u001b[0m                         Traceback (most recent call last)",
      "\u001b[1;32m<ipython-input-3-73a56b8d276f>\u001b[0m in \u001b[0;36m<module>\u001b[1;34m\u001b[0m\n\u001b[0;32m      5\u001b[0m \u001b[1;32mimport\u001b[0m \u001b[0mos\u001b[0m\u001b[1;33m\u001b[0m\u001b[1;33m\u001b[0m\u001b[0m\n\u001b[0;32m      6\u001b[0m \u001b[1;32mfrom\u001b[0m \u001b[0mcollections\u001b[0m \u001b[1;32mimport\u001b[0m \u001b[0mCounter\u001b[0m\u001b[1;33m\u001b[0m\u001b[1;33m\u001b[0m\u001b[0m\n\u001b[1;32m----> 7\u001b[1;33m \u001b[0mprint\u001b[0m\u001b[1;33m(\u001b[0m\u001b[0mos\u001b[0m\u001b[1;33m.\u001b[0m\u001b[0mlistdir\u001b[0m\u001b[1;33m(\u001b[0m\u001b[1;34m\"skillfactory_rds\"\u001b[0m\u001b[1;33m)\u001b[0m\u001b[1;33m)\u001b[0m\u001b[1;33m\u001b[0m\u001b[1;33m\u001b[0m\u001b[0m\n\u001b[0m",
      "\u001b[1;31mFileNotFoundError\u001b[0m: [WinError 3] Системе не удается найти указанный путь: 'skillfactory_rds'"
     ]
    }
   ],
   "source": [
    "import numpy as np\n",
    "import pandas as pd\n",
    "import seaborn as sns\n",
    "import matplotlib.pyplot as plt\n",
    "import os\n",
    "from collections import Counter\n",
    "print(os.listdir(\"skillfactory_rds\"))"
   ]
  },
  {
   "cell_type": "code",
   "execution_count": null,
   "metadata": {},
   "outputs": [],
   "source": [
    "data = pd.read_csv('input/imbd-sf/data.csv')\n",
    "data.head(5)"
   ]
  },
  {
   "cell_type": "code",
   "execution_count": null,
   "metadata": {},
   "outputs": [],
   "source": [
    "len(data)"
   ]
  },
  {
   "cell_type": "markdown",
   "metadata": {},
   "source": [
    "# Предобработка датасета"
   ]
  },
  {
   "cell_type": "code",
   "execution_count": null,
   "metadata": {},
   "outputs": [],
   "source": [
    "answer_ls = [] # создадим список с ответами. сюда будем добавлять ответы по мере прохождения теста\n",
    "# сюда можем вписать создание новых колонок в датасете"
   ]
  },
  {
   "cell_type": "markdown",
   "metadata": {},
   "source": [
    "# 1. У какого фильма из списка самый большой бюджет?\n",
    "Варианты ответов:\n",
    "1. The Dark Knight Rises (tt1345836)\n",
    "2. Spider-Man 3 (tt0413300)\n",
    "3. Avengers: Age of Ultron (tt2395427)\n",
    "4. The Warrior's Way\t(tt1032751)\n",
    "5. Pirates of the Caribbean: On Stranger Tides (tt1298650)"
   ]
  },
  {
   "cell_type": "code",
   "execution_count": null,
   "metadata": {},
   "outputs": [],
   "source": [
    "display(data[data.budget == data.budget.max()].original_title)\n",
    "# тут вводим ваш ответ и добавлем в его список ответов (сейчас для примера стоит \"1\")\n",
    "answer_ls.append(4)\n",
    "\n",
    "#Решено"
   ]
  },
  {
   "cell_type": "markdown",
   "metadata": {},
   "source": [
    "# 2. Какой из фильмов самый длительный (в минутах)\n",
    "1. The Lord of the Rings: The Return of the King\t(tt0167260)\n",
    "2. Gods and Generals\t(tt0279111)\n",
    "3. King Kong\t(tt0360717)\n",
    "4. Pearl Harbor\t(tt0213149)\n",
    "5. Alexander\t(tt0346491)"
   ]
  },
  {
   "cell_type": "code",
   "execution_count": null,
   "metadata": {},
   "outputs": [],
   "source": [
    "display(data[data.runtime == data.runtime.max()].original_title)\n",
    "answer_ls.append(2)\n",
    "\n",
    "#Решено"
   ]
  },
  {
   "cell_type": "markdown",
   "metadata": {},
   "source": [
    "# 3. Какой из фильмов самый короткий (в минутах)\n",
    "Варианты ответов:\n",
    "\n",
    "1. Home on the Range\ttt0299172\n",
    "2. The Jungle Book 2\ttt0283426\n",
    "3. Winnie the Pooh\ttt1449283\n",
    "4. Corpse Bride\ttt0121164\n",
    "5. Hoodwinked!\ttt0443536"
   ]
  },
  {
   "cell_type": "code",
   "execution_count": null,
   "metadata": {},
   "outputs": [],
   "source": [
    "display(data[data.runtime == data.runtime.min()].original_title)\n",
    "answer_ls.append(3)\n",
    "\n",
    "#Решено"
   ]
  },
  {
   "cell_type": "markdown",
   "metadata": {},
   "source": [
    "# 4. Средняя длительность фильма?\n",
    "\n",
    "Варианты ответов:\n",
    "1. 115\n",
    "2. 110\n",
    "3. 105\n",
    "4. 120\n",
    "5. 100\n"
   ]
  },
  {
   "cell_type": "code",
   "execution_count": null,
   "metadata": {},
   "outputs": [],
   "source": [
    "display(round(data.runtime.mean(),0))\n",
    "answer_ls.append(2)\n",
    "\n",
    "#Решено"
   ]
  },
  {
   "cell_type": "markdown",
   "metadata": {},
   "source": [
    "# 5. Средняя длительность фильма по медиане?\n",
    "Варианты ответов:\n",
    "1. 106\n",
    "2. 112\n",
    "3. 101\n",
    "4. 120\n",
    "5. 115\n",
    "\n",
    "\n"
   ]
  },
  {
   "cell_type": "code",
   "execution_count": null,
   "metadata": {},
   "outputs": [],
   "source": [
    "display(round(data.runtime.median(),0))\n",
    "answer_ls.append(1)\n",
    "\n",
    "#Решено"
   ]
  },
  {
   "cell_type": "markdown",
   "metadata": {},
   "source": [
    "# 6. Какой самый прибыльный фильм?\n",
    "Варианты ответов:\n",
    "1. The Avengers\ttt0848228\n",
    "2. Minions\ttt2293640\n",
    "3. Star Wars: The Force Awakens\ttt2488496\n",
    "4. Furious 7\ttt2820852\n",
    "5. Avatar\ttt0499549"
   ]
  },
  {
   "cell_type": "code",
   "execution_count": null,
   "metadata": {},
   "outputs": [],
   "source": [
    "data['margin'] = data['revenue'] - data['budget']\n",
    "display(data[data.margin == data.margin.max()].original_title)\n",
    "\n",
    "\n",
    "answer_ls.append(5)\n",
    "\n",
    "#Решено"
   ]
  },
  {
   "cell_type": "markdown",
   "metadata": {},
   "source": [
    "# 7. Какой фильм самый убыточный?\n",
    "Варианты ответов:\n",
    "1. Supernova tt0134983\n",
    "2. The Warrior's Way tt1032751\n",
    "3. Flushed Away\ttt0424095\n",
    "4. The Adventures of Pluto Nash\ttt0180052\n",
    "5. The Lone Ranger\ttt1210819"
   ]
  },
  {
   "cell_type": "code",
   "execution_count": null,
   "metadata": {},
   "outputs": [],
   "source": [
    "data['margin'] = data['revenue'] - data['budget']\n",
    "display(data[data.margin == data.margin.min()].original_title)\n",
    "\n",
    "answer_ls.append(2)\n",
    "\n",
    "#Решено"
   ]
  },
  {
   "cell_type": "markdown",
   "metadata": {},
   "source": [
    "# 8. Сколько всего фильмов в прибыли?\n",
    "Варианты ответов:\n",
    "1. 1478\n",
    "2. 1520\n",
    "3. 1241\n",
    "4. 1135\n",
    "5. 1398\n"
   ]
  },
  {
   "cell_type": "code",
   "execution_count": null,
   "metadata": {},
   "outputs": [],
   "source": [
    "display(data[data.margin > 0].original_title.count())\n",
    "\n",
    "answer_ls.append(1)\n",
    "\n",
    "#Решено"
   ]
  },
  {
   "cell_type": "markdown",
   "metadata": {},
   "source": [
    "# 9. Самый прибыльный фильм в 2008 году?\n",
    "Варианты ответов:\n",
    "1. Madagascar: Escape 2 Africa\ttt0479952\n",
    "2. Iron Man\ttt0371746\n",
    "3. Kung Fu Panda\ttt0441773\n",
    "4. The Dark Knight\ttt0468569\n",
    "5. Mamma Mia!\ttt0795421"
   ]
  },
  {
   "cell_type": "code",
   "execution_count": null,
   "metadata": {},
   "outputs": [],
   "source": [
    "data2008=data[\n",
    "    (data.release_year==2008)\n",
    "]\n",
    "display(data2008[data2008.margin==data2008.margin.max()].original_title)\n",
    "\n",
    "answer_ls.append(4)\n",
    "\n",
    "#Решено"
   ]
  },
  {
   "cell_type": "markdown",
   "metadata": {},
   "source": [
    "# 10. Самый убыточный фильм за период с 2012 по 2014 (включительно)?\n",
    "Варианты ответов:\n",
    "1. Winter's Tale\ttt1837709\n",
    "2. Stolen\ttt1656186\n",
    "3. Broken City\ttt1235522\n",
    "4. Upside Down\ttt1374992\n",
    "5. The Lone Ranger\ttt1210819\n"
   ]
  },
  {
   "cell_type": "code",
   "execution_count": null,
   "metadata": {},
   "outputs": [],
   "source": [
    "data_mod=data[\n",
    "    ((data.release_year>=2012) & (data.release_year<=2014))\n",
    "]\n",
    "display(data_mod[data_mod.margin==data_mod.margin.min()].original_title)\n",
    "\n",
    "\n",
    "answer_ls.append(5)\n",
    "\n",
    "#Решено"
   ]
  },
  {
   "cell_type": "markdown",
   "metadata": {},
   "source": [
    "# 11. Какого жанра фильмов больше всего?\n",
    "Варианты ответов:\n",
    "1. Action\n",
    "2. Adventure\n",
    "3. Drama\n",
    "4. Comedy\n",
    "5. Thriller"
   ]
  },
  {
   "cell_type": "code",
   "execution_count": null,
   "metadata": {},
   "outputs": [],
   "source": [
    "display(pd.Series(data.genres.str.split('|').sum()).value_counts().iloc[:1])\n",
    "                  \n",
    "answer_ls.append(3)\n",
    "\n",
    "#Решено"
   ]
  },
  {
   "cell_type": "markdown",
   "metadata": {},
   "source": [
    "# 12. Какого жанра среди прибыльных фильмов больше всего?\n",
    "Варианты ответов:\n",
    "1. Drama\n",
    "2. Comedy\n",
    "3. Action\n",
    "4. Thriller\n",
    "5. Adventure"
   ]
  },
  {
   "cell_type": "code",
   "execution_count": null,
   "metadata": {},
   "outputs": [],
   "source": [
    "data_mod = data[data.margin > 0]\n",
    "display(pd.Series(data_mod.genres.str.split('|').sum()).value_counts().iloc[:1])\n",
    "\n",
    "answer_ls.append(1)\n",
    "\n",
    "#Решено"
   ]
  },
  {
   "cell_type": "markdown",
   "metadata": {},
   "source": [
    "# 13. Кто из режиссеров снял больше всего фильмов?\n",
    "Варианты ответов:\n",
    "1. Steven Spielberg\n",
    "2. Ridley Scott \n",
    "3. Steven Soderbergh\n",
    "4. Christopher Nolan\n",
    "5. Clint Eastwood"
   ]
  },
  {
   "cell_type": "code",
   "execution_count": null,
   "metadata": {},
   "outputs": [],
   "source": [
    "display(pd.Series(data.director.str.split('|').sum()).value_counts().iloc[:1])\n",
    "\n",
    "answer_ls.append(3)\n",
    "\n",
    "\n",
    "#Решено"
   ]
  },
  {
   "cell_type": "markdown",
   "metadata": {},
   "source": [
    "# 14. Кто из режиссеров снял больше всего Прибыльных фильмов?\n",
    "Варианты ответов:\n",
    "1. Steven Soderbergh\n",
    "2. Clint Eastwood\n",
    "3. Steven Spielberg\n",
    "4. Ridley Scott\n",
    "5. Christopher Nolan"
   ]
  },
  {
   "cell_type": "code",
   "execution_count": null,
   "metadata": {},
   "outputs": [],
   "source": [
    "data_mod = data[data.margin > 0]\n",
    "display(pd.Series(data_mod.director.str.split('|').sum()).value_counts().iloc[:1])\n",
    "\n",
    "answer_ls.append(4)\n",
    "\n",
    "#Решено"
   ]
  },
  {
   "cell_type": "markdown",
   "metadata": {},
   "source": [
    "# 15. Кто из режиссеров принес больше всего прибыли?\n",
    "Варианты ответов:\n",
    "1. Steven Spielberg\n",
    "2. Christopher Nolan\n",
    "3. David Yates\n",
    "4. James Cameron\n",
    "5. Peter Jackson\n"
   ]
  },
  {
   "cell_type": "code",
   "execution_count": null,
   "metadata": {},
   "outputs": [],
   "source": [
    "data['director_list'] = data.director.str.split('|')\n",
    "data_mod = data.explode('director_list')\n",
    "display(data_mod.groupby(['director_list'])['margin'].sum().sort_values(ascending = False).iloc[:1])\n",
    "\n",
    "answer_ls.append(5)\n",
    "\n",
    "#Решено"
   ]
  },
  {
   "cell_type": "markdown",
   "metadata": {},
   "source": [
    "# 16. Какой актер принес больше всего прибыли?\n",
    "Варианты ответов:\n",
    "1. Emma Watson\n",
    "2. Johnny Depp\n",
    "3. Michelle Rodriguez\n",
    "4. Orlando Bloom\n",
    "5. Rupert Grint"
   ]
  },
  {
   "cell_type": "code",
   "execution_count": null,
   "metadata": {},
   "outputs": [],
   "source": [
    "data['cast_list'] = data.cast.str.split('|')\n",
    "data_mod = data.explode('cast_list')\n",
    "display(data_mod.groupby(['cast_list'])['margin'].sum().sort_values(ascending = False).iloc[:1])\n",
    "\n",
    "answer_ls.append(1)\n",
    "\n",
    "#Решено"
   ]
  },
  {
   "cell_type": "markdown",
   "metadata": {},
   "source": [
    "# 17. Какой актер принес меньше всего прибыли в 2012 году?\n",
    "Варианты ответов:\n",
    "1. Nicolas Cage\n",
    "2. Danny Huston\n",
    "3. Kirsten Dunst\n",
    "4. Jim Sturgess\n",
    "5. Sami Gayle"
   ]
  },
  {
   "cell_type": "code",
   "execution_count": null,
   "metadata": {},
   "outputs": [],
   "source": [
    "data['cast_list'] = data.cast.str.split('|')\n",
    "data_mod = data[data.release_year == 2012].explode('cast_list')\n",
    "display(data_mod.groupby(['cast_list'])['margin'].sum().sort_values(ascending = True).iloc[:1])\n",
    "\n",
    "\n",
    "answer_ls.append(3)\n",
    "\n",
    "#Решено"
   ]
  },
  {
   "cell_type": "markdown",
   "metadata": {},
   "source": [
    "# 18. Какой актер снялся в большем количестве высокобюджетных фильмов? (в фильмах где бюджет выше среднего по данной выборке)\n",
    "Варианты ответов:\n",
    "1. Tom Cruise\n",
    "2. Mark Wahlberg \n",
    "3. Matt Damon\n",
    "4. Angelina Jolie\n",
    "5. Adam Sandler"
   ]
  },
  {
   "cell_type": "code",
   "execution_count": null,
   "metadata": {},
   "outputs": [],
   "source": [
    "data.budget.mean()\n",
    "data['cast_list'] = data.cast.str.split('|')\n",
    "data_mod = data[data.budget > data.budget.mean()].explode('cast_list')\n",
    "display(data_mod.cast_list.value_counts().nlargest(1))\n",
    "\n",
    "answer_ls.append(3)\n",
    "\n",
    "#Решено"
   ]
  },
  {
   "cell_type": "markdown",
   "metadata": {},
   "source": [
    "# 19. В фильмах какого жанра больше всего снимался Nicolas Cage?  \n",
    "Варианты ответа:\n",
    "1. Drama\n",
    "2. Action\n",
    "3. Thriller\n",
    "4. Adventure\n",
    "5. Crime"
   ]
  },
  {
   "cell_type": "code",
   "execution_count": null,
   "metadata": {},
   "outputs": [],
   "source": [
    "data['cast_list'] = data.cast.str.split('|')\n",
    "data_mod = data.explode('cast_list')\n",
    "data_mod[data_mod.cast_list == \"Nicolas Cage\"]\n",
    "\n",
    "display(pd.Series(data_mod.genres[data_mod.cast_list == \"Nicolas Cage\"].str.split('|').sum()).value_counts().iloc[:1])\n",
    "\n",
    "answer_ls.append(2)\n",
    "\n",
    "#Решено"
   ]
  },
  {
   "cell_type": "markdown",
   "metadata": {},
   "source": [
    "# 20. Какая студия сняла больше всего фильмов?\n",
    "Варианты ответа:\n",
    "1. Universal Pictures (Universal)\n",
    "2. Paramount Pictures\n",
    "3. Columbia Pictures\n",
    "4. Warner Bros\n",
    "5. Twentieth Century Fox Film Corporation"
   ]
  },
  {
   "cell_type": "code",
   "execution_count": null,
   "metadata": {},
   "outputs": [],
   "source": [
    "data['production_companies_list'] = data.production_companies.str.split('|')\n",
    "data_mod = data.explode('production_companies_list')\n",
    "display(data_mod.production_companies_list.value_counts().nlargest(1))\n",
    "\n",
    "answer_ls.append(1)\n",
    "\n",
    "#Решено"
   ]
  },
  {
   "cell_type": "markdown",
   "metadata": {},
   "source": [
    "# 21. Какая студия сняла больше всего фильмов в 2015 году?\n",
    "Варианты ответа:\n",
    "1. Universal Pictures\n",
    "2. Paramount Pictures\n",
    "3. Columbia Pictures\n",
    "4. Warner Bros\n",
    "5. Twentieth Century Fox Film Corporation"
   ]
  },
  {
   "cell_type": "code",
   "execution_count": null,
   "metadata": {},
   "outputs": [],
   "source": [
    "data['production_companies_list'] = data.production_companies.str.split('|')\n",
    "data_mod = data[data.release_year == 2015].explode('production_companies_list')\n",
    "display(data_mod.production_companies_list.value_counts().nlargest(1))\n",
    "\n",
    "answer_ls.append(4)\n",
    "\n",
    "#Решено"
   ]
  },
  {
   "cell_type": "markdown",
   "metadata": {},
   "source": [
    "# 22. Какая студия заработала больше всего денег в жанре комедий за все время?\n",
    "Варианты ответа:\n",
    "1. Warner Bros\n",
    "2. Universal Pictures (Universal)\n",
    "3. Columbia Pictures\n",
    "4. Paramount Pictures\n",
    "5. Walt Disney"
   ]
  },
  {
   "cell_type": "code",
   "execution_count": null,
   "metadata": {},
   "outputs": [],
   "source": [
    "data['production_companies_list'] = data.production_companies.str.split('|')\n",
    "data_mod = data[data.genres.str.contains(pat = 'Comedy')].explode('production_companies_list')\n",
    "display(data_mod.groupby(['production_companies_list'])['margin'].sum().sort_values(ascending = False).iloc[:1])\n",
    "\n",
    "answer_ls.append(2)\n",
    "\n",
    "#Решено"
   ]
  },
  {
   "cell_type": "markdown",
   "metadata": {},
   "source": [
    "# 23. Какая студия заработала больше всего денег в 2012 году?\n",
    "Варианты ответа:\n",
    "1. Universal Pictures (Universal)\n",
    "2. Warner Bros\n",
    "3. Columbia Pictures\n",
    "4. Paramount Pictures\n",
    "5. Lucasfilm"
   ]
  },
  {
   "cell_type": "code",
   "execution_count": null,
   "metadata": {},
   "outputs": [],
   "source": [
    "data['production_companies_list'] = data.production_companies.str.split('|')\n",
    "data_mod = data[data.release_year == 2012].explode('production_companies_list')\n",
    "display(data_mod.groupby(['production_companies_list'])['margin'].sum().sort_values(ascending = False).iloc[:1])\n",
    "\n",
    "answer_ls.append(3)\n",
    "\n",
    "#Решено"
   ]
  },
  {
   "cell_type": "markdown",
   "metadata": {},
   "source": [
    "# 24. Самый убыточный фильм от Paramount Pictures\n",
    "Варианты ответа:\n",
    "\n",
    "1. K-19: The Widowmaker tt0267626\n",
    "2. Next tt0435705\n",
    "3. Twisted tt0315297\n",
    "4. The Love Guru tt0811138\n",
    "5. The Fighter tt0964517"
   ]
  },
  {
   "cell_type": "code",
   "execution_count": null,
   "metadata": {},
   "outputs": [],
   "source": [
    "data['production_companies_list'] = data.production_companies.str.split('|')\n",
    "data_mod = data.explode('production_companies_list')\n",
    "data_mod_2 = data_mod[(data_mod.production_companies_list == \"Paramount Pictures\")]\n",
    "display(data_mod_2[(data_mod_2.margin == data_mod_2.margin.min())]['original_title'])\n",
    "\n",
    "answer_ls.append(1)\n",
    "\n",
    "#Решено"
   ]
  },
  {
   "cell_type": "markdown",
   "metadata": {},
   "source": [
    "# 25. Какой Самый прибыльный год (заработали больше всего)?\n",
    "Варианты ответа:\n",
    "1. 2014\n",
    "2. 2008\n",
    "3. 2012\n",
    "4. 2002\n",
    "5. 2015"
   ]
  },
  {
   "cell_type": "code",
   "execution_count": null,
   "metadata": {},
   "outputs": [],
   "source": [
    "display(data.groupby(['release_year'])['margin'].sum().sort_values(ascending = False).iloc[:1])\n",
    "\n",
    "answer_ls.append(5)\n",
    "\n",
    "#Решено"
   ]
  },
  {
   "cell_type": "markdown",
   "metadata": {},
   "source": [
    "# 26. Какой Самый прибыльный год для студии Warner Bros?\n",
    "Варианты ответа:\n",
    "1. 2014\n",
    "2. 2008\n",
    "3. 2012\n",
    "4. 2010\n",
    "5. 2015"
   ]
  },
  {
   "cell_type": "code",
   "execution_count": null,
   "metadata": {},
   "outputs": [],
   "source": [
    "data_mod = data[data.production_companies.str.contains(pat = 'Warner Bros')]\n",
    "display(data_mod.groupby(['release_year'])['margin'].sum().sort_values(ascending = False).iloc[:1])\n",
    "\n",
    "\n",
    "answer_ls.append(1)\n",
    "\n",
    "#Решено"
   ]
  },
  {
   "cell_type": "markdown",
   "metadata": {},
   "source": [
    "# 27. В каком месяце за все годы суммарно вышло больше всего фильмов?\n",
    "Варианты ответа:\n",
    "1. Январь\n",
    "2. Июнь\n",
    "3. Декабрь\n",
    "4. Сентябрь\n",
    "5. Май"
   ]
  },
  {
   "cell_type": "code",
   "execution_count": null,
   "metadata": {},
   "outputs": [],
   "source": [
    "data[['month','day', 'year']] = data.release_date.str.split(pat = \"/\", expand=True)\n",
    "display(data.groupby(['month'])['original_title'].count().sort_values(ascending = False).iloc[:1])\n",
    "\n",
    "answer_ls.append(4)\n",
    "\n",
    "#Решено"
   ]
  },
  {
   "cell_type": "markdown",
   "metadata": {},
   "source": [
    "# 28. Сколько суммарно вышло фильмов летом? (за июнь, июль, август)\n",
    "Варианты ответа:\n",
    "1. 345\n",
    "2. 450\n",
    "3. 478\n",
    "4. 523\n",
    "5. 381"
   ]
  },
  {
   "cell_type": "code",
   "execution_count": null,
   "metadata": {},
   "outputs": [],
   "source": [
    "data[['month','day', 'year']] = data.release_date.str.split(pat = \"/\", expand=True)\n",
    "display(data[(data.month == \"6\") | (data.month == \"7\") | (data.month == \"8\")].original_title.count())\n",
    "\n",
    "answer_ls.append(2)\n",
    "\n",
    "#Решено"
   ]
  },
  {
   "cell_type": "markdown",
   "metadata": {},
   "source": [
    "# 29. Какой режисер выпускает (суммарно по годам) больше всего фильмов зимой?\n",
    "Варианты ответов:\n",
    "1. Steven Soderbergh\n",
    "2. Christopher Nolan\n",
    "3. Clint Eastwood\n",
    "4. Ridley Scott\n",
    "5. Peter Jackson"
   ]
  },
  {
   "cell_type": "code",
   "execution_count": null,
   "metadata": {},
   "outputs": [],
   "source": [
    "data[['month','day', 'year']] = data.release_date.str.split(pat = \"/\", expand=True)\n",
    "data['director_list'] = data.director.str.split('|')\n",
    "data_mod = data.explode('director_list')\n",
    "data_mod_2 = data_mod[(data_mod.month == \"12\") | (data_mod.month == \"1\") | (data_mod.month == \"2\")]\n",
    "display(data_mod_2.groupby(['director_list'])['original_title'].count().sort_values(ascending = False).iloc[:1])\n",
    "\n",
    "\n",
    "answer_ls.append(5)\n",
    "\n",
    "#Решено"
   ]
  },
  {
   "cell_type": "markdown",
   "metadata": {},
   "source": [
    "# 30. Какой месяц чаще всего по годам самый прибыльный?\n",
    "Варианты ответа:\n",
    "1. Январь\n",
    "2. Июнь\n",
    "3. Декабрь\n",
    "4. Сентябрь\n",
    "5. Май"
   ]
  },
  {
   "cell_type": "code",
   "execution_count": null,
   "metadata": {},
   "outputs": [],
   "source": [
    "data[['month','day', 'year']] = data.release_date.str.split(pat = \"/\", expand=True)\n",
    "\n",
    "pivot = data.pivot_table(\n",
    "values = 'margin',\n",
    "aggfunc = 'sum',\n",
    "index = 'year',\n",
    "columns = 'month',\n",
    "fill_value = 0)\n",
    "\n",
    "display(pivot.idxmax(axis=1).value_counts().iloc[:1])\n",
    "\n",
    "answer_ls.append(2)\n",
    "\n",
    "#Решено"
   ]
  },
  {
   "cell_type": "markdown",
   "metadata": {},
   "source": [
    "# 31. Названия фильмов какой студии в среднем самые длинные по количеству символов?\n",
    "Варианты ответа:\n",
    "1. Universal Pictures (Universal)\n",
    "2. Warner Bros\n",
    "3. Jim Henson Company, The\n",
    "4. Paramount Pictures\n",
    "5. Four By Two Productions"
   ]
  },
  {
   "cell_type": "code",
   "execution_count": null,
   "metadata": {},
   "outputs": [],
   "source": [
    "data['title_simbols'] = data.original_title.str.len()\n",
    "data['production_companies_list'] = data.production_companies.str.split('|')\n",
    "data_mod = data.explode('production_companies_list')\n",
    "\n",
    "display(data_mod.groupby(['production_companies_list'])['title_simbols'].mean().sort_values(ascending = False).iloc[:1])\n",
    "\n",
    "answer_ls.append(5)\n",
    "\n",
    "#Решено"
   ]
  },
  {
   "cell_type": "markdown",
   "metadata": {},
   "source": [
    "# 32. Названия фильмов какой студии в среднем самые длинные по количеству слов?\n",
    "Варианты ответа:\n",
    "1. Universal Pictures (Universal)\n",
    "2. Warner Bros\n",
    "3. Jim Henson Company, The\n",
    "4. Paramount Pictures\n",
    "5. Four By Two Productions"
   ]
  },
  {
   "cell_type": "code",
   "execution_count": null,
   "metadata": {},
   "outputs": [],
   "source": [
    "data['title_words'] = data.original_title.str.split(' ').str.len()\n",
    "data['production_companies_list'] = data.production_companies.str.split('|')\n",
    "data_mod = data.explode('production_companies_list')\n",
    "\n",
    "display(data_mod.groupby(['production_companies_list'])['title_words'].mean().sort_values(ascending = False).iloc[:1])\n",
    "\n",
    "answer_ls.append(5)\n",
    "\n",
    "#Решено"
   ]
  },
  {
   "cell_type": "markdown",
   "metadata": {},
   "source": [
    "# 33. Сколько разных слов используется в названиях фильмов?(без учета регистра)\n",
    "Варианты ответа:\n",
    "1. 6540\n",
    "2. 1002\n",
    "3. 2461\n",
    "4. 28304\n",
    "5. 3432"
   ]
  },
  {
   "cell_type": "code",
   "execution_count": null,
   "metadata": {},
   "outputs": [],
   "source": [
    "display(len(pd.Series(data.original_title.str.lower().str.split().sum()).unique()))\n",
    "\n",
    "\n",
    "answer_ls.append(3)\n",
    "\n",
    "#Решено"
   ]
  },
  {
   "cell_type": "markdown",
   "metadata": {},
   "source": [
    "# 34. Какие фильмы входят в 1 процент лучших по рейтингу?\n",
    "Варианты ответа:\n",
    "1. Inside Out, Gone Girl, 12 Years a Slave\n",
    "2. BloodRayne, The Adventures of Rocky & Bullwinkle\n",
    "3. The Lord of the Rings: The Return of the King\n",
    "4. 300, Lucky Number Slevin"
   ]
  },
  {
   "cell_type": "code",
   "execution_count": null,
   "metadata": {},
   "outputs": [],
   "source": [
    "rows = int(data.original_title.count()*0.01)\n",
    "\n",
    "display(data.sort_values(by=['vote_average']).original_title.iloc[:rows])\n",
    "\n",
    "answer_ls.append(2)\n",
    "\n",
    "#Решено"
   ]
  },
  {
   "cell_type": "markdown",
   "metadata": {},
   "source": [
    "# 35. Какие актеры чаще всего снимаются в одном фильме вместе\n",
    "Варианты ответа:\n",
    "1. Johnny Depp & Helena Bonham Carter\n",
    "2. Hugh Jackman & Ian McKellen\n",
    "3. Vin Diesel & Paul Walker\n",
    "4. Adam Sandler & Kevin James\n",
    "5. Daniel Radcliffe & Rupert Grint"
   ]
  },
  {
   "cell_type": "code",
   "execution_count": null,
   "metadata": {},
   "outputs": [],
   "source": [
    "data_1 = data[(data.cast.str.contains(pat = 'Johnny Depp')) & \n",
    "             (data.cast.str.contains(pat = 'Helena Bonham Carter'))].original_title.count()\n",
    "data_2 = data[(data.cast.str.contains(pat = 'Hugh Jackman')) & \n",
    "             (data.cast.str.contains(pat = 'Ian McKellen'))].original_title.count()\n",
    "data_3 = data[(data.cast.str.contains(pat = 'Vin Diesel')) & \n",
    "             (data.cast.str.contains(pat = 'Paul Walker'))].original_title.count()\n",
    "data_4 = data[(data.cast.str.contains(pat = 'Adam Sandler')) & \n",
    "             (data.cast.str.contains(pat = 'Kevin James'))].original_title.count()\n",
    "data_5 = data[(data.cast.str.contains(pat = 'Daniel Radcliffe')) & \n",
    "             (data.cast.str.contains(pat = 'Rupert Grint'))].original_title.count()\n",
    "print(\"Johnny Depp & Helena Bonham Carter - \", data_1) \n",
    "print(\"Hugh Jackman & Ian McKellen - \", data_2)\n",
    "print(\"Vin Diesel & Paul Walker - \", data_3)\n",
    "print(\"Adam Sandler & Kevin James - \", data_4)\n",
    "print(\"Daniel Radcliffe & Rupert Grint - \", data_5)\n",
    "\n",
    "\n",
    "answer_ls.append(5)"
   ]
  },
  {
   "cell_type": "markdown",
   "metadata": {},
   "source": [
    "# 36. У какого из режиссеров выше вероятность выпустить фильм в прибыли? (5 баллов)101\n",
    "Варианты ответа:\n",
    "1. Quentin Tarantino\n",
    "2. Steven Soderbergh\n",
    "3. Robert Rodriguez\n",
    "4. Christopher Nolan\n",
    "5. Clint Eastwood"
   ]
  },
  {
   "cell_type": "code",
   "execution_count": null,
   "metadata": {},
   "outputs": [],
   "source": [
    "data['director_list'] = data.director.str.split('|')\n",
    "data_mod = data.explode('director_list')\n",
    "data_mod_dir = data_mod[(data_mod.director_list == \"Quentin Tarantino\") | \n",
    "                       (data_mod.director_list == \"Steven Soderbergh\") | \n",
    "                       (data_mod.director_list == \"Robert Rodriguez\") | \n",
    "                       (data_mod.director_list == \"Christopher Nolan\") | \n",
    "                       (data_mod.director_list == \"Clint Eastwood\")]\n",
    "\n",
    "all_films = data_mod_dir.groupby(['director_list'])['original_title'].count()\n",
    "all_films = all_films.reset_index()\n",
    "successfull_films = data_mod_dir[data_mod_dir.margin > 0].groupby(['director_list'])['original_title'].count()\n",
    "successfull_films = successfull_films.reset_index()\n",
    "joined = all_films.merge(successfull_films, on='director_list', how='left')\n",
    "joined.columns = ['director','all_films','successfull_films']\n",
    "joined['chance'] = joined['successfull_films']/joined['all_films']\n",
    "display(joined['director'].iloc[:1])\n",
    "\n",
    "answer_ls.append(4)\n",
    "\n",
    "#Решено"
   ]
  },
  {
   "cell_type": "markdown",
   "metadata": {},
   "source": [
    "# Submission"
   ]
  },
  {
   "cell_type": "code",
   "execution_count": null,
   "metadata": {},
   "outputs": [],
   "source": [
    "len(answer_ls)"
   ]
  },
  {
   "cell_type": "code",
   "execution_count": null,
   "metadata": {},
   "outputs": [],
   "source": [
    "pd.DataFrame({'Id':range(1,len(answer_ls)+1), 'Answer':answer_ls}, columns=['Id', 'Answer'])"
   ]
  },
  {
   "cell_type": "code",
   "execution_count": null,
   "metadata": {},
   "outputs": [],
   "source": []
  }
 ],
 "metadata": {
  "kernelspec": {
   "display_name": "Python 3",
   "language": "python",
   "name": "python3"
  },
  "language_info": {
   "codemirror_mode": {
    "name": "ipython",
    "version": 3
   },
   "file_extension": ".py",
   "mimetype": "text/x-python",
   "name": "python",
   "nbconvert_exporter": "python",
   "pygments_lexer": "ipython3",
   "version": "3.7.4"
  }
 },
 "nbformat": 4,
 "nbformat_minor": 4
}
