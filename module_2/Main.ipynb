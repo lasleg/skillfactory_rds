{
 "cells": [
  {
   "cell_type": "markdown",
   "metadata": {},
   "source": [
    "### Импортируем функции и датасет"
   ]
  },
  {
   "cell_type": "code",
   "execution_count": 1,
   "metadata": {},
   "outputs": [],
   "source": [
    "import pandas as pd\n",
    "\n",
    "import matplotlib.pyplot as plt\n",
    "\n",
    "import seaborn as sns\n",
    "\n",
    "from scipy.stats import norm\n",
    "\n",
    "from itertools import combinations\n",
    "\n",
    "from scipy.stats import ttest_ind\n",
    "\n",
    "pd.set_option('display.max_rows', 50) # выведем больше строк\n",
    "\n",
    "pd.set_option('display.max_columns', 50) # выведем больше колонок\n",
    "\n",
    "sns.set_style('darkgrid')\n",
    "\n",
    "study = pd.read_csv('stud_math.csv')"
   ]
  },
  {
   "cell_type": "code",
   "execution_count": 2,
   "metadata": {},
   "outputs": [],
   "source": [
    "def cont_col_describe(column):\n",
    "    \"\"\"Функция для описания числовых столбцов\"\"\"\n",
    "    \n",
    "    counts = study[column].value_counts(dropna=False)\n",
    "    percent = study[column].value_counts(dropna=False, normalize=True)\n",
    "    percent100 = study[column].value_counts(dropna=False, normalize=True).mul(100).round(1).astype(str) + '%'\n",
    "    display(pd.DataFrame({'counts': counts, 'per': percent, 'per100': percent100}))\n",
    "    \n",
    "    print(study[column].describe())\n",
    "  \n",
    "    plt.hist(study.loc[:, column][study[column].notna()])\n",
    "\n",
    "    print('')\n",
    "    print(f'Всего {len(study[column].value_counts())} значений в столбце', column,\\\n",
    "          f', {len(study[column][study[column].isna()])} пропусков')\n",
    "    \n",
    "def cat_col_describe(column):\n",
    "    \"\"\"Функция для описания текстовых столбцов\"\"\"\n",
    "    \n",
    "    counts = study[column].value_counts(dropna=False)\n",
    "    percent = study[column].value_counts(dropna=False, normalize=True)\n",
    "    percent100 = study[column].value_counts(dropna=False, normalize=True).mul(100).round(1).astype(str) + '%'\n",
    "    display(pd.DataFrame({'counts': counts, 'per': percent, 'per100': percent100}))\n",
    "    \n",
    "    print(study[column].describe())\n",
    "\n",
    "    sns.distplot(study[column], bins = len(study[column].value_counts()), fit=norm, kde=False)\n",
    "    \n",
    "    print('')\n",
    "    print(f'Всего {len(study[column].value_counts())} значений в столбце', column,\\\n",
    "          f', {len(study[column][study[column].isna()])} пропусков')\n",
    "\n",
    "def get_boxplot(column):\n",
    "    \"\"\"Функция для построения боксплотов\"\"\"\n",
    "    fig, ax = plt.subplots(figsize = (14, 4))\n",
    "    sns.boxplot(x=column, y='score', \n",
    "                data=study.loc[study.loc[:, column].isin(study.loc[:, column].value_counts().index[:10])],\n",
    "               ax=ax)\n",
    "    plt.xticks(rotation=45)    \n",
    "    ax.set_title('Boxplot for ' + column)\n",
    "    plt.show()\n",
    "    \n",
    "def get_stat_dif(column):\n",
    "    \"\"\"Проверка, на статистическую разницу\"\"\"\n",
    "    cols = study.loc[:, column].value_counts().index[:10]\n",
    "    combinations_all = list(combinations(cols, 2))\n",
    "    for comb in combinations_all:\n",
    "        if ttest_ind(study.loc[study.loc[:, column] == comb[0], 'score'], \n",
    "                        study.loc[study.loc[:, column] == comb[1], 'score']).pvalue \\\n",
    "            <= 0.05/len(combinations_all): # Учли поправку Бонферони\n",
    "            print('Найдены статистически значимые различия для колонки', column)\n",
    "            break"
   ]
  },
  {
   "cell_type": "markdown",
   "metadata": {},
   "source": [
    "### Общая информация о датасете"
   ]
  },
  {
   "cell_type": "code",
   "execution_count": 3,
   "metadata": {},
   "outputs": [
    {
     "data": {
      "text/html": [
       "<div>\n",
       "<style scoped>\n",
       "    .dataframe tbody tr th:only-of-type {\n",
       "        vertical-align: middle;\n",
       "    }\n",
       "\n",
       "    .dataframe tbody tr th {\n",
       "        vertical-align: top;\n",
       "    }\n",
       "\n",
       "    .dataframe thead th {\n",
       "        text-align: right;\n",
       "    }\n",
       "</style>\n",
       "<table border=\"1\" class=\"dataframe\">\n",
       "  <thead>\n",
       "    <tr style=\"text-align: right;\">\n",
       "      <th></th>\n",
       "      <th>school</th>\n",
       "      <th>sex</th>\n",
       "      <th>age</th>\n",
       "      <th>address</th>\n",
       "      <th>famsize</th>\n",
       "      <th>Pstatus</th>\n",
       "      <th>Medu</th>\n",
       "      <th>Fedu</th>\n",
       "      <th>Mjob</th>\n",
       "      <th>Fjob</th>\n",
       "      <th>reason</th>\n",
       "      <th>guardian</th>\n",
       "      <th>traveltime</th>\n",
       "      <th>studytime</th>\n",
       "      <th>failures</th>\n",
       "      <th>schoolsup</th>\n",
       "      <th>famsup</th>\n",
       "      <th>paid</th>\n",
       "      <th>activities</th>\n",
       "      <th>nursery</th>\n",
       "      <th>studytime, granular</th>\n",
       "      <th>higher</th>\n",
       "      <th>internet</th>\n",
       "      <th>romantic</th>\n",
       "      <th>famrel</th>\n",
       "      <th>freetime</th>\n",
       "      <th>goout</th>\n",
       "      <th>health</th>\n",
       "      <th>absences</th>\n",
       "      <th>score</th>\n",
       "    </tr>\n",
       "  </thead>\n",
       "  <tbody>\n",
       "    <tr>\n",
       "      <th>0</th>\n",
       "      <td>GP</td>\n",
       "      <td>F</td>\n",
       "      <td>18</td>\n",
       "      <td>U</td>\n",
       "      <td>NaN</td>\n",
       "      <td>A</td>\n",
       "      <td>4.0</td>\n",
       "      <td>4.0</td>\n",
       "      <td>at_home</td>\n",
       "      <td>teacher</td>\n",
       "      <td>course</td>\n",
       "      <td>mother</td>\n",
       "      <td>2.0</td>\n",
       "      <td>2.0</td>\n",
       "      <td>0.0</td>\n",
       "      <td>yes</td>\n",
       "      <td>no</td>\n",
       "      <td>no</td>\n",
       "      <td>no</td>\n",
       "      <td>yes</td>\n",
       "      <td>-6.0</td>\n",
       "      <td>yes</td>\n",
       "      <td>NaN</td>\n",
       "      <td>no</td>\n",
       "      <td>4.0</td>\n",
       "      <td>3.0</td>\n",
       "      <td>4.0</td>\n",
       "      <td>3.0</td>\n",
       "      <td>6.0</td>\n",
       "      <td>30.0</td>\n",
       "    </tr>\n",
       "    <tr>\n",
       "      <th>1</th>\n",
       "      <td>GP</td>\n",
       "      <td>F</td>\n",
       "      <td>17</td>\n",
       "      <td>U</td>\n",
       "      <td>GT3</td>\n",
       "      <td>NaN</td>\n",
       "      <td>1.0</td>\n",
       "      <td>1.0</td>\n",
       "      <td>at_home</td>\n",
       "      <td>other</td>\n",
       "      <td>course</td>\n",
       "      <td>father</td>\n",
       "      <td>1.0</td>\n",
       "      <td>2.0</td>\n",
       "      <td>0.0</td>\n",
       "      <td>no</td>\n",
       "      <td>yes</td>\n",
       "      <td>no</td>\n",
       "      <td>no</td>\n",
       "      <td>no</td>\n",
       "      <td>-6.0</td>\n",
       "      <td>yes</td>\n",
       "      <td>yes</td>\n",
       "      <td>no</td>\n",
       "      <td>5.0</td>\n",
       "      <td>3.0</td>\n",
       "      <td>3.0</td>\n",
       "      <td>3.0</td>\n",
       "      <td>4.0</td>\n",
       "      <td>30.0</td>\n",
       "    </tr>\n",
       "    <tr>\n",
       "      <th>2</th>\n",
       "      <td>GP</td>\n",
       "      <td>F</td>\n",
       "      <td>15</td>\n",
       "      <td>U</td>\n",
       "      <td>LE3</td>\n",
       "      <td>T</td>\n",
       "      <td>1.0</td>\n",
       "      <td>1.0</td>\n",
       "      <td>at_home</td>\n",
       "      <td>other</td>\n",
       "      <td>other</td>\n",
       "      <td>mother</td>\n",
       "      <td>1.0</td>\n",
       "      <td>2.0</td>\n",
       "      <td>3.0</td>\n",
       "      <td>yes</td>\n",
       "      <td>no</td>\n",
       "      <td>NaN</td>\n",
       "      <td>no</td>\n",
       "      <td>yes</td>\n",
       "      <td>-6.0</td>\n",
       "      <td>yes</td>\n",
       "      <td>yes</td>\n",
       "      <td>NaN</td>\n",
       "      <td>4.0</td>\n",
       "      <td>3.0</td>\n",
       "      <td>2.0</td>\n",
       "      <td>3.0</td>\n",
       "      <td>10.0</td>\n",
       "      <td>50.0</td>\n",
       "    </tr>\n",
       "    <tr>\n",
       "      <th>3</th>\n",
       "      <td>GP</td>\n",
       "      <td>F</td>\n",
       "      <td>15</td>\n",
       "      <td>U</td>\n",
       "      <td>GT3</td>\n",
       "      <td>T</td>\n",
       "      <td>4.0</td>\n",
       "      <td>2.0</td>\n",
       "      <td>health</td>\n",
       "      <td>NaN</td>\n",
       "      <td>home</td>\n",
       "      <td>mother</td>\n",
       "      <td>1.0</td>\n",
       "      <td>3.0</td>\n",
       "      <td>0.0</td>\n",
       "      <td>no</td>\n",
       "      <td>yes</td>\n",
       "      <td>yes</td>\n",
       "      <td>yes</td>\n",
       "      <td>yes</td>\n",
       "      <td>-9.0</td>\n",
       "      <td>yes</td>\n",
       "      <td>yes</td>\n",
       "      <td>yes</td>\n",
       "      <td>3.0</td>\n",
       "      <td>2.0</td>\n",
       "      <td>2.0</td>\n",
       "      <td>5.0</td>\n",
       "      <td>2.0</td>\n",
       "      <td>75.0</td>\n",
       "    </tr>\n",
       "    <tr>\n",
       "      <th>4</th>\n",
       "      <td>GP</td>\n",
       "      <td>F</td>\n",
       "      <td>16</td>\n",
       "      <td>U</td>\n",
       "      <td>GT3</td>\n",
       "      <td>T</td>\n",
       "      <td>3.0</td>\n",
       "      <td>3.0</td>\n",
       "      <td>other</td>\n",
       "      <td>other</td>\n",
       "      <td>home</td>\n",
       "      <td>father</td>\n",
       "      <td>1.0</td>\n",
       "      <td>2.0</td>\n",
       "      <td>0.0</td>\n",
       "      <td>no</td>\n",
       "      <td>yes</td>\n",
       "      <td>yes</td>\n",
       "      <td>no</td>\n",
       "      <td>yes</td>\n",
       "      <td>-6.0</td>\n",
       "      <td>yes</td>\n",
       "      <td>no</td>\n",
       "      <td>no</td>\n",
       "      <td>4.0</td>\n",
       "      <td>3.0</td>\n",
       "      <td>2.0</td>\n",
       "      <td>5.0</td>\n",
       "      <td>4.0</td>\n",
       "      <td>50.0</td>\n",
       "    </tr>\n",
       "  </tbody>\n",
       "</table>\n",
       "</div>"
      ],
      "text/plain": [
       "  school sex  age address famsize Pstatus  Medu  Fedu     Mjob     Fjob  \\\n",
       "0     GP   F   18       U     NaN       A   4.0   4.0  at_home  teacher   \n",
       "1     GP   F   17       U     GT3     NaN   1.0   1.0  at_home    other   \n",
       "2     GP   F   15       U     LE3       T   1.0   1.0  at_home    other   \n",
       "3     GP   F   15       U     GT3       T   4.0   2.0   health      NaN   \n",
       "4     GP   F   16       U     GT3       T   3.0   3.0    other    other   \n",
       "\n",
       "   reason guardian  traveltime  studytime  failures schoolsup famsup paid  \\\n",
       "0  course   mother         2.0        2.0       0.0       yes     no   no   \n",
       "1  course   father         1.0        2.0       0.0        no    yes   no   \n",
       "2   other   mother         1.0        2.0       3.0       yes     no  NaN   \n",
       "3    home   mother         1.0        3.0       0.0        no    yes  yes   \n",
       "4    home   father         1.0        2.0       0.0        no    yes  yes   \n",
       "\n",
       "  activities nursery  studytime, granular higher internet romantic  famrel  \\\n",
       "0         no     yes                 -6.0    yes      NaN       no     4.0   \n",
       "1         no      no                 -6.0    yes      yes       no     5.0   \n",
       "2         no     yes                 -6.0    yes      yes      NaN     4.0   \n",
       "3        yes     yes                 -9.0    yes      yes      yes     3.0   \n",
       "4         no     yes                 -6.0    yes       no       no     4.0   \n",
       "\n",
       "   freetime  goout  health  absences  score  \n",
       "0       3.0    4.0     3.0       6.0   30.0  \n",
       "1       3.0    3.0     3.0       4.0   30.0  \n",
       "2       3.0    2.0     3.0      10.0   50.0  \n",
       "3       2.0    2.0     5.0       2.0   75.0  \n",
       "4       3.0    2.0     5.0       4.0   50.0  "
      ]
     },
     "execution_count": 3,
     "metadata": {},
     "output_type": "execute_result"
    }
   ],
   "source": [
    "study.head()"
   ]
  },
  {
   "cell_type": "code",
   "execution_count": 4,
   "metadata": {},
   "outputs": [
    {
     "name": "stdout",
     "output_type": "stream",
     "text": [
      "<class 'pandas.core.frame.DataFrame'>\n",
      "RangeIndex: 395 entries, 0 to 394\n",
      "Data columns (total 30 columns):\n",
      " #   Column               Non-Null Count  Dtype  \n",
      "---  ------               --------------  -----  \n",
      " 0   school               395 non-null    object \n",
      " 1   sex                  395 non-null    object \n",
      " 2   age                  395 non-null    int64  \n",
      " 3   address              378 non-null    object \n",
      " 4   famsize              368 non-null    object \n",
      " 5   Pstatus              350 non-null    object \n",
      " 6   Medu                 392 non-null    float64\n",
      " 7   Fedu                 371 non-null    float64\n",
      " 8   Mjob                 376 non-null    object \n",
      " 9   Fjob                 359 non-null    object \n",
      " 10  reason               378 non-null    object \n",
      " 11  guardian             364 non-null    object \n",
      " 12  traveltime           367 non-null    float64\n",
      " 13  studytime            388 non-null    float64\n",
      " 14  failures             373 non-null    float64\n",
      " 15  schoolsup            386 non-null    object \n",
      " 16  famsup               356 non-null    object \n",
      " 17  paid                 355 non-null    object \n",
      " 18  activities           381 non-null    object \n",
      " 19  nursery              379 non-null    object \n",
      " 20  studytime, granular  388 non-null    float64\n",
      " 21  higher               375 non-null    object \n",
      " 22  internet             361 non-null    object \n",
      " 23  romantic             364 non-null    object \n",
      " 24  famrel               368 non-null    float64\n",
      " 25  freetime             384 non-null    float64\n",
      " 26  goout                387 non-null    float64\n",
      " 27  health               380 non-null    float64\n",
      " 28  absences             383 non-null    float64\n",
      " 29  score                389 non-null    float64\n",
      "dtypes: float64(12), int64(1), object(17)\n",
      "memory usage: 92.7+ KB\n"
     ]
    }
   ],
   "source": [
    "study.info()"
   ]
  },
  {
   "cell_type": "code",
   "execution_count": 5,
   "metadata": {},
   "outputs": [
    {
     "name": "stdout",
     "output_type": "stream",
     "text": [
      "Всего 27 колонок с пропущеными значениями.\n"
     ]
    }
   ],
   "source": [
    "print(f'Всего {study.isnull().any().sum()} колонок с пропущеными значениями.')"
   ]
  },
  {
   "cell_type": "code",
   "execution_count": 6,
   "metadata": {},
   "outputs": [
    {
     "name": "stdout",
     "output_type": "stream",
     "text": [
      "Всего 0 столбцов в датасете с одним уникальным значением.\n"
     ]
    }
   ],
   "source": [
    "one_value_cols = [col for col in study.columns if study[col].nunique() <= 1]\n",
    "print(f'Всего {len(one_value_cols)} столбцов в датасете с одним уникальным значением.')"
   ]
  },
  {
   "cell_type": "markdown",
   "metadata": {},
   "source": [
    "### Изучаем столбцы"
   ]
  },
  {
   "cell_type": "code",
   "execution_count": 7,
   "metadata": {},
   "outputs": [
    {
     "name": "stdout",
     "output_type": "stream",
     "text": [
      "score — баллы по госэкзамену по математике\n"
     ]
    },
    {
     "data": {
      "text/html": [
       "<div>\n",
       "<style scoped>\n",
       "    .dataframe tbody tr th:only-of-type {\n",
       "        vertical-align: middle;\n",
       "    }\n",
       "\n",
       "    .dataframe tbody tr th {\n",
       "        vertical-align: top;\n",
       "    }\n",
       "\n",
       "    .dataframe thead th {\n",
       "        text-align: right;\n",
       "    }\n",
       "</style>\n",
       "<table border=\"1\" class=\"dataframe\">\n",
       "  <thead>\n",
       "    <tr style=\"text-align: right;\">\n",
       "      <th></th>\n",
       "      <th>counts</th>\n",
       "      <th>per</th>\n",
       "      <th>per100</th>\n",
       "    </tr>\n",
       "  </thead>\n",
       "  <tbody>\n",
       "    <tr>\n",
       "      <th>50.0</th>\n",
       "      <td>54</td>\n",
       "      <td>0.136709</td>\n",
       "      <td>13.7%</td>\n",
       "    </tr>\n",
       "    <tr>\n",
       "      <th>55.0</th>\n",
       "      <td>46</td>\n",
       "      <td>0.116456</td>\n",
       "      <td>11.6%</td>\n",
       "    </tr>\n",
       "    <tr>\n",
       "      <th>0.0</th>\n",
       "      <td>37</td>\n",
       "      <td>0.093671</td>\n",
       "      <td>9.4%</td>\n",
       "    </tr>\n",
       "    <tr>\n",
       "      <th>75.0</th>\n",
       "      <td>33</td>\n",
       "      <td>0.083544</td>\n",
       "      <td>8.4%</td>\n",
       "    </tr>\n",
       "    <tr>\n",
       "      <th>65.0</th>\n",
       "      <td>31</td>\n",
       "      <td>0.078481</td>\n",
       "      <td>7.8%</td>\n",
       "    </tr>\n",
       "    <tr>\n",
       "      <th>40.0</th>\n",
       "      <td>31</td>\n",
       "      <td>0.078481</td>\n",
       "      <td>7.8%</td>\n",
       "    </tr>\n",
       "    <tr>\n",
       "      <th>60.0</th>\n",
       "      <td>31</td>\n",
       "      <td>0.078481</td>\n",
       "      <td>7.8%</td>\n",
       "    </tr>\n",
       "    <tr>\n",
       "      <th>45.0</th>\n",
       "      <td>27</td>\n",
       "      <td>0.068354</td>\n",
       "      <td>6.8%</td>\n",
       "    </tr>\n",
       "    <tr>\n",
       "      <th>70.0</th>\n",
       "      <td>27</td>\n",
       "      <td>0.068354</td>\n",
       "      <td>6.8%</td>\n",
       "    </tr>\n",
       "    <tr>\n",
       "      <th>80.0</th>\n",
       "      <td>16</td>\n",
       "      <td>0.040506</td>\n",
       "      <td>4.1%</td>\n",
       "    </tr>\n",
       "    <tr>\n",
       "      <th>30.0</th>\n",
       "      <td>15</td>\n",
       "      <td>0.037975</td>\n",
       "      <td>3.8%</td>\n",
       "    </tr>\n",
       "    <tr>\n",
       "      <th>90.0</th>\n",
       "      <td>12</td>\n",
       "      <td>0.030380</td>\n",
       "      <td>3.0%</td>\n",
       "    </tr>\n",
       "    <tr>\n",
       "      <th>35.0</th>\n",
       "      <td>9</td>\n",
       "      <td>0.022785</td>\n",
       "      <td>2.3%</td>\n",
       "    </tr>\n",
       "    <tr>\n",
       "      <th>25.0</th>\n",
       "      <td>7</td>\n",
       "      <td>0.017722</td>\n",
       "      <td>1.8%</td>\n",
       "    </tr>\n",
       "    <tr>\n",
       "      <th>NaN</th>\n",
       "      <td>6</td>\n",
       "      <td>0.015190</td>\n",
       "      <td>1.5%</td>\n",
       "    </tr>\n",
       "    <tr>\n",
       "      <th>85.0</th>\n",
       "      <td>6</td>\n",
       "      <td>0.015190</td>\n",
       "      <td>1.5%</td>\n",
       "    </tr>\n",
       "    <tr>\n",
       "      <th>95.0</th>\n",
       "      <td>5</td>\n",
       "      <td>0.012658</td>\n",
       "      <td>1.3%</td>\n",
       "    </tr>\n",
       "    <tr>\n",
       "      <th>100.0</th>\n",
       "      <td>1</td>\n",
       "      <td>0.002532</td>\n",
       "      <td>0.3%</td>\n",
       "    </tr>\n",
       "    <tr>\n",
       "      <th>20.0</th>\n",
       "      <td>1</td>\n",
       "      <td>0.002532</td>\n",
       "      <td>0.3%</td>\n",
       "    </tr>\n",
       "  </tbody>\n",
       "</table>\n",
       "</div>"
      ],
      "text/plain": [
       "       counts       per per100\n",
       "50.0       54  0.136709  13.7%\n",
       "55.0       46  0.116456  11.6%\n",
       "0.0        37  0.093671   9.4%\n",
       "75.0       33  0.083544   8.4%\n",
       "65.0       31  0.078481   7.8%\n",
       "40.0       31  0.078481   7.8%\n",
       "60.0       31  0.078481   7.8%\n",
       "45.0       27  0.068354   6.8%\n",
       "70.0       27  0.068354   6.8%\n",
       "80.0       16  0.040506   4.1%\n",
       "30.0       15  0.037975   3.8%\n",
       "90.0       12  0.030380   3.0%\n",
       "35.0        9  0.022785   2.3%\n",
       "25.0        7  0.017722   1.8%\n",
       "NaN         6  0.015190   1.5%\n",
       "85.0        6  0.015190   1.5%\n",
       "95.0        5  0.012658   1.3%\n",
       "100.0       1  0.002532   0.3%\n",
       "20.0        1  0.002532   0.3%"
      ]
     },
     "metadata": {},
     "output_type": "display_data"
    },
    {
     "name": "stdout",
     "output_type": "stream",
     "text": [
      "count    389.000000\n",
      "mean      52.262211\n",
      "std       22.919022\n",
      "min        0.000000\n",
      "25%       40.000000\n",
      "50%       55.000000\n",
      "75%       70.000000\n",
      "max      100.000000\n",
      "Name: score, dtype: float64\n",
      "\n",
      "Всего 18 значений в столбце score , 6 пропусков\n"
     ]
    },
    {
     "data": {
      "image/png": "[encoded data removed]",
      "text/plain": [
       "<Figure size 432x288 with 1 Axes>"
      ]
     },
     "metadata": {},
     "output_type": "display_data"
    }
   ],
   "source": [
    "# Начнем с конца: изучаем столбец score 30/30\n",
    "\n",
    "print('score — баллы по госэкзамену по математике')\n",
    "\n",
    "cat_col_describe('score')"
   ]
  },
  {
   "cell_type": "code",
   "execution_count": 8,
   "metadata": {},
   "outputs": [
    {
     "name": "stdout",
     "output_type": "stream",
     "text": [
      "25-й перцентиль: 40.0, 75-й перцентиль: 70.0, IQR: 30.0,  Границы выбросов: [-5.0, 115.0].\n"
     ]
    },
    {
     "data": {
      "image/png": "[encoded data removed]",
      "text/plain": [
       "<Figure size 432x288 with 1 Axes>"
      ]
     },
     "metadata": {},
     "output_type": "display_data"
    }
   ],
   "source": [
    "#Видим, что у нас предположительно присутствует выброс со значением 0. Проверим его по формуле:\n",
    "\n",
    "median = study.score.median()\n",
    "IQR = study.score.quantile(0.75) - study.score.quantile(0.25)\n",
    "perc25 = study.score.quantile(0.25)\n",
    "perc75 = study.score.quantile(0.75)\n",
    "print('25-й перцентиль: {},'.format(perc25), '75-й перцентиль: {},'.format(perc75)\n",
    "      , \"IQR: {}, \".format(IQR),\"Границы выбросов: [{f}, {l}].\".format(f=perc25 - 1.5*IQR, l=perc75 + 1.5*IQR))\n",
    "study.score.loc[study.score.between(perc25 - 1.5*IQR, perc75 + 1.5*IQR)].hist(bins = 10, \n",
    "                                                                              range = (0, 100),\n",
    "                                                                              label = 'IQR')\n",
    "plt.legend();"
   ]
  },
  {
   "cell_type": "code",
   "execution_count": 9,
   "metadata": {},
   "outputs": [],
   "source": [
    "# Значение ноль попадает в границу выбросов, но тем не менее логика подсказывает, \n",
    "# что нулевой балл не связан с реальной успеваемостью, поэтому отсеим эти значения, а заодно и пустые\n",
    "\n",
    "study = study.loc[study.score > 0]"
   ]
  },
  {
   "cell_type": "code",
   "execution_count": 10,
   "metadata": {},
   "outputs": [
    {
     "name": "stdout",
     "output_type": "stream",
     "text": [
      "school — аббревиатура школы, в которой учится ученик\n"
     ]
    },
    {
     "data": {
      "text/html": [
       "<div>\n",
       "<style scoped>\n",
       "    .dataframe tbody tr th:only-of-type {\n",
       "        vertical-align: middle;\n",
       "    }\n",
       "\n",
       "    .dataframe tbody tr th {\n",
       "        vertical-align: top;\n",
       "    }\n",
       "\n",
       "    .dataframe thead th {\n",
       "        text-align: right;\n",
       "    }\n",
       "</style>\n",
       "<table border=\"1\" class=\"dataframe\">\n",
       "  <thead>\n",
       "    <tr style=\"text-align: right;\">\n",
       "      <th></th>\n",
       "      <th>counts</th>\n",
       "      <th>per</th>\n",
       "      <th>per100</th>\n",
       "    </tr>\n",
       "  </thead>\n",
       "  <tbody>\n",
       "    <tr>\n",
       "      <th>GP</th>\n",
       "      <td>311</td>\n",
       "      <td>0.883523</td>\n",
       "      <td>88.4%</td>\n",
       "    </tr>\n",
       "    <tr>\n",
       "      <th>MS</th>\n",
       "      <td>41</td>\n",
       "      <td>0.116477</td>\n",
       "      <td>11.6%</td>\n",
       "    </tr>\n",
       "  </tbody>\n",
       "</table>\n",
       "</div>"
      ],
      "text/plain": [
       "    counts       per per100\n",
       "GP     311  0.883523  88.4%\n",
       "MS      41  0.116477  11.6%"
      ]
     },
     "metadata": {},
     "output_type": "display_data"
    },
    {
     "name": "stdout",
     "output_type": "stream",
     "text": [
      "count     352\n",
      "unique      2\n",
      "top        GP\n",
      "freq      311\n",
      "Name: school, dtype: object\n",
      "\n",
      "Всего 2 значений в столбце school , 0 пропусков\n"
     ]
    },
    {
     "data": {
      "image/png": "[encoded data removed]",
      "text/plain": [
       "<Figure size 432x288 with 1 Axes>"
      ]
     },
     "metadata": {},
     "output_type": "display_data"
    }
   ],
   "source": [
    "# Изучаем столбец school 1/30\n",
    "\n",
    "print('school — аббревиатура школы, в которой учится ученик')\n",
    "\n",
    "cont_col_describe('school')"
   ]
  },
  {
   "cell_type": "code",
   "execution_count": 11,
   "metadata": {},
   "outputs": [
    {
     "name": "stdout",
     "output_type": "stream",
     "text": [
      "Оценки\n",
      "\n",
      "Школа GP\n",
      "\n",
      "count    311.000000\n",
      "mean      58.215434\n",
      "std       16.282245\n",
      "min       20.000000\n",
      "25%       47.500000\n",
      "50%       55.000000\n",
      "75%       70.000000\n",
      "max      100.000000\n",
      "Name: score, dtype: float64\n",
      "\n",
      "Школа MS\n",
      "\n",
      "count    41.000000\n",
      "mean     54.268293\n",
      "std      15.311800\n",
      "min      25.000000\n",
      "25%      45.000000\n",
      "50%      50.000000\n",
      "75%      65.000000\n",
      "max      95.000000\n",
      "Name: score, dtype: float64\n",
      "\n",
      "Половой состав\n",
      "\n",
      "Школа GP\n"
     ]
    },
    {
     "data": {
      "text/html": [
       "<div>\n",
       "<style scoped>\n",
       "    .dataframe tbody tr th:only-of-type {\n",
       "        vertical-align: middle;\n",
       "    }\n",
       "\n",
       "    .dataframe tbody tr th {\n",
       "        vertical-align: top;\n",
       "    }\n",
       "\n",
       "    .dataframe thead th {\n",
       "        text-align: right;\n",
       "    }\n",
       "</style>\n",
       "<table border=\"1\" class=\"dataframe\">\n",
       "  <thead>\n",
       "    <tr style=\"text-align: right;\">\n",
       "      <th></th>\n",
       "      <th>counts</th>\n",
       "      <th>per</th>\n",
       "      <th>per100</th>\n",
       "    </tr>\n",
       "  </thead>\n",
       "  <tbody>\n",
       "    <tr>\n",
       "      <th>F</th>\n",
       "      <td>160</td>\n",
       "      <td>0.514469</td>\n",
       "      <td>51.4%</td>\n",
       "    </tr>\n",
       "    <tr>\n",
       "      <th>M</th>\n",
       "      <td>151</td>\n",
       "      <td>0.485531</td>\n",
       "      <td>48.6%</td>\n",
       "    </tr>\n",
       "  </tbody>\n",
       "</table>\n",
       "</div>"
      ],
      "text/plain": [
       "   counts       per per100\n",
       "F     160  0.514469  51.4%\n",
       "M     151  0.485531  48.6%"
      ]
     },
     "metadata": {},
     "output_type": "display_data"
    },
    {
     "name": "stdout",
     "output_type": "stream",
     "text": [
      "\n",
      "Школа MS\n"
     ]
    },
    {
     "data": {
      "text/html": [
       "<div>\n",
       "<style scoped>\n",
       "    .dataframe tbody tr th:only-of-type {\n",
       "        vertical-align: middle;\n",
       "    }\n",
       "\n",
       "    .dataframe tbody tr th {\n",
       "        vertical-align: top;\n",
       "    }\n",
       "\n",
       "    .dataframe thead th {\n",
       "        text-align: right;\n",
       "    }\n",
       "</style>\n",
       "<table border=\"1\" class=\"dataframe\">\n",
       "  <thead>\n",
       "    <tr style=\"text-align: right;\">\n",
       "      <th></th>\n",
       "      <th>counts</th>\n",
       "      <th>per</th>\n",
       "      <th>per100</th>\n",
       "    </tr>\n",
       "  </thead>\n",
       "  <tbody>\n",
       "    <tr>\n",
       "      <th>F</th>\n",
       "      <td>22</td>\n",
       "      <td>0.536585</td>\n",
       "      <td>53.7%</td>\n",
       "    </tr>\n",
       "    <tr>\n",
       "      <th>M</th>\n",
       "      <td>19</td>\n",
       "      <td>0.463415</td>\n",
       "      <td>46.3%</td>\n",
       "    </tr>\n",
       "  </tbody>\n",
       "</table>\n",
       "</div>"
      ],
      "text/plain": [
       "   counts       per per100\n",
       "F      22  0.536585  53.7%\n",
       "M      19  0.463415  46.3%"
      ]
     },
     "metadata": {},
     "output_type": "display_data"
    }
   ],
   "source": [
    "# В датасете представлены данные по 2 школам: GP и MS. Попробуем проанализировать каждую\n",
    "\n",
    "# Выведем статистику по оценкам\n",
    "\n",
    "print(\"Оценки\", sep = '\\n')\n",
    "\n",
    "print(\"\", \"Школа GP\", \"\", sep = '\\n')\n",
    "print(study[study[\"school\"] == \"GP\"]['score'].describe())\n",
    "\n",
    "print(\"\", \"Школа MS\", \"\", sep = '\\n')\n",
    "print(study[study[\"school\"] == \"MS\"]['score'].describe())\n",
    "\n",
    "# Выведем статистику по половому составу\n",
    "\n",
    "print(\"\", \"Половой состав\", sep = '\\n')\n",
    "\n",
    "print(\"\", \"Школа GP\", sep = '\\n')\n",
    "counts = study[study[\"school\"] == \"GP\"]['sex'].value_counts(dropna=False)\n",
    "percent = study[study[\"school\"] == \"GP\"]['sex'].value_counts(dropna=False, normalize=True)\n",
    "percent100 = study[study[\"school\"] == \"GP\"]['sex'].value_counts(dropna=False, normalize=True).\\\n",
    "mul(100).round(1).astype(str) + '%'\n",
    "display(pd.DataFrame({'counts': counts, 'per': percent, 'per100': percent100}))\n",
    "\n",
    "print(\"\", \"Школа MS\", sep = '\\n')\n",
    "counts = study[study[\"school\"] == \"MS\"]['sex'].value_counts(dropna=False)\n",
    "percent = study[study[\"school\"] == \"MS\"]['sex'].value_counts(dropna=False, normalize=True)\n",
    "percent100 = study[study[\"school\"] == \"MS\"]['sex'].value_counts(dropna=False, normalize=True).\\\n",
    "mul(100).round(1).astype(str) + '%'\n",
    "display(pd.DataFrame({'counts': counts, 'per': percent, 'per100': percent100}))"
   ]
  },
  {
   "cell_type": "code",
   "execution_count": 12,
   "metadata": {},
   "outputs": [],
   "source": [
    "#Видим, что оценки и возраст сопоставимы, поэтому можно отбросить этот столбец\n",
    "\n",
    "study.drop(['school'], inplace = True, axis = 1)"
   ]
  },
  {
   "cell_type": "code",
   "execution_count": 13,
   "metadata": {},
   "outputs": [
    {
     "name": "stdout",
     "output_type": "stream",
     "text": [
      "sex — пол ученика (F - женский, M - мужской)\n"
     ]
    },
    {
     "data": {
      "text/html": [
       "<div>\n",
       "<style scoped>\n",
       "    .dataframe tbody tr th:only-of-type {\n",
       "        vertical-align: middle;\n",
       "    }\n",
       "\n",
       "    .dataframe tbody tr th {\n",
       "        vertical-align: top;\n",
       "    }\n",
       "\n",
       "    .dataframe thead th {\n",
       "        text-align: right;\n",
       "    }\n",
       "</style>\n",
       "<table border=\"1\" class=\"dataframe\">\n",
       "  <thead>\n",
       "    <tr style=\"text-align: right;\">\n",
       "      <th></th>\n",
       "      <th>counts</th>\n",
       "      <th>per</th>\n",
       "      <th>per100</th>\n",
       "    </tr>\n",
       "  </thead>\n",
       "  <tbody>\n",
       "    <tr>\n",
       "      <th>F</th>\n",
       "      <td>182</td>\n",
       "      <td>0.517045</td>\n",
       "      <td>51.7%</td>\n",
       "    </tr>\n",
       "    <tr>\n",
       "      <th>M</th>\n",
       "      <td>170</td>\n",
       "      <td>0.482955</td>\n",
       "      <td>48.3%</td>\n",
       "    </tr>\n",
       "  </tbody>\n",
       "</table>\n",
       "</div>"
      ],
      "text/plain": [
       "   counts       per per100\n",
       "F     182  0.517045  51.7%\n",
       "M     170  0.482955  48.3%"
      ]
     },
     "metadata": {},
     "output_type": "display_data"
    },
    {
     "name": "stdout",
     "output_type": "stream",
     "text": [
      "count     352\n",
      "unique      2\n",
      "top         F\n",
      "freq      182\n",
      "Name: sex, dtype: object\n",
      "\n",
      "Всего 2 значений в столбце sex , 0 пропусков\n"
     ]
    },
    {
     "data": {
      "image/png": "[encoded data removed]",
      "text/plain": [
       "<Figure size 432x288 with 1 Axes>"
      ]
     },
     "metadata": {},
     "output_type": "display_data"
    }
   ],
   "source": [
    "# Изучаем столбец sex 2/30\n",
    "\n",
    "print('sex — пол ученика (F - женский, M - мужской)')\n",
    "\n",
    "cont_col_describe('sex')"
   ]
  },
  {
   "cell_type": "code",
   "execution_count": 14,
   "metadata": {},
   "outputs": [],
   "source": [
    "# Возрастной состав примерно одинаков, пропусков нет, оставляем этот столбец без изменений"
   ]
  },
  {
   "cell_type": "code",
   "execution_count": 15,
   "metadata": {},
   "outputs": [
    {
     "name": "stdout",
     "output_type": "stream",
     "text": [
      "age — возраст ученика (от 15 до 22)\n"
     ]
    },
    {
     "data": {
      "text/html": [
       "<div>\n",
       "<style scoped>\n",
       "    .dataframe tbody tr th:only-of-type {\n",
       "        vertical-align: middle;\n",
       "    }\n",
       "\n",
       "    .dataframe tbody tr th {\n",
       "        vertical-align: top;\n",
       "    }\n",
       "\n",
       "    .dataframe thead th {\n",
       "        text-align: right;\n",
       "    }\n",
       "</style>\n",
       "<table border=\"1\" class=\"dataframe\">\n",
       "  <thead>\n",
       "    <tr style=\"text-align: right;\">\n",
       "      <th></th>\n",
       "      <th>counts</th>\n",
       "      <th>per</th>\n",
       "      <th>per100</th>\n",
       "    </tr>\n",
       "  </thead>\n",
       "  <tbody>\n",
       "    <tr>\n",
       "      <th>16</th>\n",
       "      <td>96</td>\n",
       "      <td>0.272727</td>\n",
       "      <td>27.3%</td>\n",
       "    </tr>\n",
       "    <tr>\n",
       "      <th>17</th>\n",
       "      <td>90</td>\n",
       "      <td>0.255682</td>\n",
       "      <td>25.6%</td>\n",
       "    </tr>\n",
       "    <tr>\n",
       "      <th>15</th>\n",
       "      <td>76</td>\n",
       "      <td>0.215909</td>\n",
       "      <td>21.6%</td>\n",
       "    </tr>\n",
       "    <tr>\n",
       "      <th>18</th>\n",
       "      <td>69</td>\n",
       "      <td>0.196023</td>\n",
       "      <td>19.6%</td>\n",
       "    </tr>\n",
       "    <tr>\n",
       "      <th>19</th>\n",
       "      <td>16</td>\n",
       "      <td>0.045455</td>\n",
       "      <td>4.5%</td>\n",
       "    </tr>\n",
       "    <tr>\n",
       "      <th>20</th>\n",
       "      <td>3</td>\n",
       "      <td>0.008523</td>\n",
       "      <td>0.9%</td>\n",
       "    </tr>\n",
       "    <tr>\n",
       "      <th>22</th>\n",
       "      <td>1</td>\n",
       "      <td>0.002841</td>\n",
       "      <td>0.3%</td>\n",
       "    </tr>\n",
       "    <tr>\n",
       "      <th>21</th>\n",
       "      <td>1</td>\n",
       "      <td>0.002841</td>\n",
       "      <td>0.3%</td>\n",
       "    </tr>\n",
       "  </tbody>\n",
       "</table>\n",
       "</div>"
      ],
      "text/plain": [
       "    counts       per per100\n",
       "16      96  0.272727  27.3%\n",
       "17      90  0.255682  25.6%\n",
       "15      76  0.215909  21.6%\n",
       "18      69  0.196023  19.6%\n",
       "19      16  0.045455   4.5%\n",
       "20       3  0.008523   0.9%\n",
       "22       1  0.002841   0.3%\n",
       "21       1  0.002841   0.3%"
      ]
     },
     "metadata": {},
     "output_type": "display_data"
    },
    {
     "name": "stdout",
     "output_type": "stream",
     "text": [
      "count    352.000000\n",
      "mean      16.633523\n",
      "std        1.256011\n",
      "min       15.000000\n",
      "25%       16.000000\n",
      "50%       17.000000\n",
      "75%       18.000000\n",
      "max       22.000000\n",
      "Name: age, dtype: float64\n",
      "\n",
      "Всего 8 значений в столбце age , 0 пропусков\n"
     ]
    },
    {
     "data": {
      "image/png": "[encoded data removed]",
      "text/plain": [
       "<Figure size 432x288 with 1 Axes>"
      ]
     },
     "metadata": {},
     "output_type": "display_data"
    }
   ],
   "source": [
    "# Изучаем столбец age 3/30\n",
    "\n",
    "print('age — возраст ученика (от 15 до 22)')\n",
    "\n",
    "cat_col_describe('age')"
   ]
  },
  {
   "cell_type": "code",
   "execution_count": 16,
   "metadata": {
    "scrolled": true
   },
   "outputs": [
    {
     "data": {
      "image/png": "[encoded data removed]",
      "text/plain": [
       "<Figure size 1008x288 with 1 Axes>"
      ]
     },
     "metadata": {},
     "output_type": "display_data"
    }
   ],
   "source": [
    "# В рамках нашей задачи нет необходимости сегментировать учащихся по возрастам,\n",
    "# но тем не менее посмотрим, как распределяются баллы\n",
    "\n",
    "get_boxplot('age')"
   ]
  },
  {
   "cell_type": "code",
   "execution_count": 17,
   "metadata": {},
   "outputs": [
    {
     "name": "stderr",
     "output_type": "stream",
     "text": [
      "C:\\Users\\User\\Anaconda3\\lib\\site-packages\\numpy\\core\\fromnumeric.py:3584: RuntimeWarning: Degrees of freedom <= 0 for slice\n",
      "  **kwargs)\n",
      "C:\\Users\\User\\Anaconda3\\lib\\site-packages\\numpy\\core\\_methods.py:209: RuntimeWarning: invalid value encountered in double_scalars\n",
      "  ret = ret.dtype.type(ret / rcount)\n",
      "C:\\Users\\User\\Anaconda3\\lib\\site-packages\\scipy\\stats\\_distn_infrastructure.py:903: RuntimeWarning: invalid value encountered in greater\n",
      "  return (a < x) & (x < b)\n",
      "C:\\Users\\User\\Anaconda3\\lib\\site-packages\\scipy\\stats\\_distn_infrastructure.py:903: RuntimeWarning: invalid value encountered in less\n",
      "  return (a < x) & (x < b)\n",
      "C:\\Users\\User\\Anaconda3\\lib\\site-packages\\scipy\\stats\\_distn_infrastructure.py:1912: RuntimeWarning: invalid value encountered in less_equal\n",
      "  cond2 = cond0 & (x <= _a)\n"
     ]
    },
    {
     "data": {
      "text/html": [
       "<div>\n",
       "<style scoped>\n",
       "    .dataframe tbody tr th:only-of-type {\n",
       "        vertical-align: middle;\n",
       "    }\n",
       "\n",
       "    .dataframe tbody tr th {\n",
       "        vertical-align: top;\n",
       "    }\n",
       "\n",
       "    .dataframe thead th {\n",
       "        text-align: right;\n",
       "    }\n",
       "</style>\n",
       "<table border=\"1\" class=\"dataframe\">\n",
       "  <thead>\n",
       "    <tr style=\"text-align: right;\">\n",
       "      <th></th>\n",
       "      <th>age</th>\n",
       "      <th>Medu</th>\n",
       "      <th>Fedu</th>\n",
       "      <th>traveltime</th>\n",
       "      <th>studytime</th>\n",
       "      <th>failures</th>\n",
       "      <th>studytime, granular</th>\n",
       "      <th>famrel</th>\n",
       "      <th>freetime</th>\n",
       "      <th>goout</th>\n",
       "      <th>health</th>\n",
       "      <th>absences</th>\n",
       "      <th>score</th>\n",
       "    </tr>\n",
       "  </thead>\n",
       "  <tbody>\n",
       "    <tr>\n",
       "      <th>age</th>\n",
       "      <td>1.000000</td>\n",
       "      <td>-0.122979</td>\n",
       "      <td>-0.121617</td>\n",
       "      <td>0.095370</td>\n",
       "      <td>-0.011426</td>\n",
       "      <td>0.235875</td>\n",
       "      <td>0.011426</td>\n",
       "      <td>0.074152</td>\n",
       "      <td>0.004837</td>\n",
       "      <td>0.123638</td>\n",
       "      <td>-0.056173</td>\n",
       "      <td>0.112599</td>\n",
       "      <td>-0.131542</td>\n",
       "    </tr>\n",
       "    <tr>\n",
       "      <th>Medu</th>\n",
       "      <td>-0.122979</td>\n",
       "      <td>1.000000</td>\n",
       "      <td>0.247339</td>\n",
       "      <td>-0.165394</td>\n",
       "      <td>0.070533</td>\n",
       "      <td>-0.205944</td>\n",
       "      <td>-0.070533</td>\n",
       "      <td>-0.000958</td>\n",
       "      <td>0.021002</td>\n",
       "      <td>0.080556</td>\n",
       "      <td>-0.038050</td>\n",
       "      <td>-0.027377</td>\n",
       "      <td>0.186477</td>\n",
       "    </tr>\n",
       "    <tr>\n",
       "      <th>Fedu</th>\n",
       "      <td>-0.121617</td>\n",
       "      <td>0.247339</td>\n",
       "      <td>1.000000</td>\n",
       "      <td>0.042074</td>\n",
       "      <td>0.049060</td>\n",
       "      <td>-0.141995</td>\n",
       "      <td>-0.049060</td>\n",
       "      <td>0.049613</td>\n",
       "      <td>-0.071328</td>\n",
       "      <td>-0.026507</td>\n",
       "      <td>0.025874</td>\n",
       "      <td>0.000245</td>\n",
       "      <td>0.069842</td>\n",
       "    </tr>\n",
       "    <tr>\n",
       "      <th>traveltime</th>\n",
       "      <td>0.095370</td>\n",
       "      <td>-0.165394</td>\n",
       "      <td>0.042074</td>\n",
       "      <td>1.000000</td>\n",
       "      <td>-0.101490</td>\n",
       "      <td>0.091757</td>\n",
       "      <td>0.101490</td>\n",
       "      <td>-0.023920</td>\n",
       "      <td>-0.023067</td>\n",
       "      <td>0.029374</td>\n",
       "      <td>-0.000092</td>\n",
       "      <td>-0.047560</td>\n",
       "      <td>-0.075516</td>\n",
       "    </tr>\n",
       "    <tr>\n",
       "      <th>studytime</th>\n",
       "      <td>-0.011426</td>\n",
       "      <td>0.070533</td>\n",
       "      <td>0.049060</td>\n",
       "      <td>-0.101490</td>\n",
       "      <td>1.000000</td>\n",
       "      <td>-0.156406</td>\n",
       "      <td>-1.000000</td>\n",
       "      <td>0.063856</td>\n",
       "      <td>-0.128661</td>\n",
       "      <td>-0.029686</td>\n",
       "      <td>-0.085469</td>\n",
       "      <td>-0.030187</td>\n",
       "      <td>0.142055</td>\n",
       "    </tr>\n",
       "    <tr>\n",
       "      <th>failures</th>\n",
       "      <td>0.235875</td>\n",
       "      <td>-0.205944</td>\n",
       "      <td>-0.141995</td>\n",
       "      <td>0.091757</td>\n",
       "      <td>-0.156406</td>\n",
       "      <td>1.000000</td>\n",
       "      <td>0.156406</td>\n",
       "      <td>-0.011414</td>\n",
       "      <td>0.127391</td>\n",
       "      <td>0.126770</td>\n",
       "      <td>0.064083</td>\n",
       "      <td>0.089541</td>\n",
       "      <td>-0.289377</td>\n",
       "    </tr>\n",
       "    <tr>\n",
       "      <th>studytime, granular</th>\n",
       "      <td>0.011426</td>\n",
       "      <td>-0.070533</td>\n",
       "      <td>-0.049060</td>\n",
       "      <td>0.101490</td>\n",
       "      <td>-1.000000</td>\n",
       "      <td>0.156406</td>\n",
       "      <td>1.000000</td>\n",
       "      <td>-0.063856</td>\n",
       "      <td>0.128661</td>\n",
       "      <td>0.029686</td>\n",
       "      <td>0.085469</td>\n",
       "      <td>0.030187</td>\n",
       "      <td>-0.142055</td>\n",
       "    </tr>\n",
       "    <tr>\n",
       "      <th>famrel</th>\n",
       "      <td>0.074152</td>\n",
       "      <td>-0.000958</td>\n",
       "      <td>0.049613</td>\n",
       "      <td>-0.023920</td>\n",
       "      <td>0.063856</td>\n",
       "      <td>-0.011414</td>\n",
       "      <td>-0.063856</td>\n",
       "      <td>1.000000</td>\n",
       "      <td>0.162283</td>\n",
       "      <td>0.050751</td>\n",
       "      <td>0.096471</td>\n",
       "      <td>-0.089609</td>\n",
       "      <td>0.046717</td>\n",
       "    </tr>\n",
       "    <tr>\n",
       "      <th>freetime</th>\n",
       "      <td>0.004837</td>\n",
       "      <td>0.021002</td>\n",
       "      <td>-0.071328</td>\n",
       "      <td>-0.023067</td>\n",
       "      <td>-0.128661</td>\n",
       "      <td>0.127391</td>\n",
       "      <td>0.128661</td>\n",
       "      <td>0.162283</td>\n",
       "      <td>1.000000</td>\n",
       "      <td>0.296392</td>\n",
       "      <td>0.072729</td>\n",
       "      <td>0.007748</td>\n",
       "      <td>-0.012457</td>\n",
       "    </tr>\n",
       "    <tr>\n",
       "      <th>goout</th>\n",
       "      <td>0.123638</td>\n",
       "      <td>0.080556</td>\n",
       "      <td>-0.026507</td>\n",
       "      <td>0.029374</td>\n",
       "      <td>-0.029686</td>\n",
       "      <td>0.126770</td>\n",
       "      <td>0.029686</td>\n",
       "      <td>0.050751</td>\n",
       "      <td>0.296392</td>\n",
       "      <td>1.000000</td>\n",
       "      <td>-0.010343</td>\n",
       "      <td>-0.050616</td>\n",
       "      <td>-0.182286</td>\n",
       "    </tr>\n",
       "    <tr>\n",
       "      <th>health</th>\n",
       "      <td>-0.056173</td>\n",
       "      <td>-0.038050</td>\n",
       "      <td>0.025874</td>\n",
       "      <td>-0.000092</td>\n",
       "      <td>-0.085469</td>\n",
       "      <td>0.064083</td>\n",
       "      <td>0.085469</td>\n",
       "      <td>0.096471</td>\n",
       "      <td>0.072729</td>\n",
       "      <td>-0.010343</td>\n",
       "      <td>1.000000</td>\n",
       "      <td>-0.014308</td>\n",
       "      <td>-0.075340</td>\n",
       "    </tr>\n",
       "    <tr>\n",
       "      <th>absences</th>\n",
       "      <td>0.112599</td>\n",
       "      <td>-0.027377</td>\n",
       "      <td>0.000245</td>\n",
       "      <td>-0.047560</td>\n",
       "      <td>-0.030187</td>\n",
       "      <td>0.089541</td>\n",
       "      <td>0.030187</td>\n",
       "      <td>-0.089609</td>\n",
       "      <td>0.007748</td>\n",
       "      <td>-0.050616</td>\n",
       "      <td>-0.014308</td>\n",
       "      <td>1.000000</td>\n",
       "      <td>-0.014039</td>\n",
       "    </tr>\n",
       "    <tr>\n",
       "      <th>score</th>\n",
       "      <td>-0.131542</td>\n",
       "      <td>0.186477</td>\n",
       "      <td>0.069842</td>\n",
       "      <td>-0.075516</td>\n",
       "      <td>0.142055</td>\n",
       "      <td>-0.289377</td>\n",
       "      <td>-0.142055</td>\n",
       "      <td>0.046717</td>\n",
       "      <td>-0.012457</td>\n",
       "      <td>-0.182286</td>\n",
       "      <td>-0.075340</td>\n",
       "      <td>-0.014039</td>\n",
       "      <td>1.000000</td>\n",
       "    </tr>\n",
       "  </tbody>\n",
       "</table>\n",
       "</div>"
      ],
      "text/plain": [
       "                          age      Medu      Fedu  traveltime  studytime  \\\n",
       "age                  1.000000 -0.122979 -0.121617    0.095370  -0.011426   \n",
       "Medu                -0.122979  1.000000  0.247339   -0.165394   0.070533   \n",
       "Fedu                -0.121617  0.247339  1.000000    0.042074   0.049060   \n",
       "traveltime           0.095370 -0.165394  0.042074    1.000000  -0.101490   \n",
       "studytime           -0.011426  0.070533  0.049060   -0.101490   1.000000   \n",
       "failures             0.235875 -0.205944 -0.141995    0.091757  -0.156406   \n",
       "studytime, granular  0.011426 -0.070533 -0.049060    0.101490  -1.000000   \n",
       "famrel               0.074152 -0.000958  0.049613   -0.023920   0.063856   \n",
       "freetime             0.004837  0.021002 -0.071328   -0.023067  -0.128661   \n",
       "goout                0.123638  0.080556 -0.026507    0.029374  -0.029686   \n",
       "health              -0.056173 -0.038050  0.025874   -0.000092  -0.085469   \n",
       "absences             0.112599 -0.027377  0.000245   -0.047560  -0.030187   \n",
       "score               -0.131542  0.186477  0.069842   -0.075516   0.142055   \n",
       "\n",
       "                     failures  studytime, granular    famrel  freetime  \\\n",
       "age                  0.235875             0.011426  0.074152  0.004837   \n",
       "Medu                -0.205944            -0.070533 -0.000958  0.021002   \n",
       "Fedu                -0.141995            -0.049060  0.049613 -0.071328   \n",
       "traveltime           0.091757             0.101490 -0.023920 -0.023067   \n",
       "studytime           -0.156406            -1.000000  0.063856 -0.128661   \n",
       "failures             1.000000             0.156406 -0.011414  0.127391   \n",
       "studytime, granular  0.156406             1.000000 -0.063856  0.128661   \n",
       "famrel              -0.011414            -0.063856  1.000000  0.162283   \n",
       "freetime             0.127391             0.128661  0.162283  1.000000   \n",
       "goout                0.126770             0.029686  0.050751  0.296392   \n",
       "health               0.064083             0.085469  0.096471  0.072729   \n",
       "absences             0.089541             0.030187 -0.089609  0.007748   \n",
       "score               -0.289377            -0.142055  0.046717 -0.012457   \n",
       "\n",
       "                        goout    health  absences     score  \n",
       "age                  0.123638 -0.056173  0.112599 -0.131542  \n",
       "Medu                 0.080556 -0.038050 -0.027377  0.186477  \n",
       "Fedu                -0.026507  0.025874  0.000245  0.069842  \n",
       "traveltime           0.029374 -0.000092 -0.047560 -0.075516  \n",
       "studytime           -0.029686 -0.085469 -0.030187  0.142055  \n",
       "failures             0.126770  0.064083  0.089541 -0.289377  \n",
       "studytime, granular  0.029686  0.085469  0.030187 -0.142055  \n",
       "famrel               0.050751  0.096471 -0.089609  0.046717  \n",
       "freetime             0.296392  0.072729  0.007748 -0.012457  \n",
       "goout                1.000000 -0.010343 -0.050616 -0.182286  \n",
       "health              -0.010343  1.000000 -0.014308 -0.075340  \n",
       "absences            -0.050616 -0.014308  1.000000 -0.014039  \n",
       "score               -0.182286 -0.075340 -0.014039  1.000000  "
      ]
     },
     "execution_count": 17,
     "metadata": {},
     "output_type": "execute_result"
    }
   ],
   "source": [
    "# Почему-то идет понижение среднего балла по математике с увеличением возраста.\n",
    "# Посмотрим, может ли на это влиять образовние родителей и наличие интернета\n",
    "\n",
    "get_stat_dif('age')\n",
    "\n",
    "study.corr()\n",
    "\n"
   ]
  },
  {
   "cell_type": "code",
   "execution_count": 18,
   "metadata": {},
   "outputs": [
    {
     "name": "stdout",
     "output_type": "stream",
     "text": [
      "address — тип адреса ученика (U - городской, R - за городом)\n"
     ]
    },
    {
     "data": {
      "text/html": [
       "<div>\n",
       "<style scoped>\n",
       "    .dataframe tbody tr th:only-of-type {\n",
       "        vertical-align: middle;\n",
       "    }\n",
       "\n",
       "    .dataframe tbody tr th {\n",
       "        vertical-align: top;\n",
       "    }\n",
       "\n",
       "    .dataframe thead th {\n",
       "        text-align: right;\n",
       "    }\n",
       "</style>\n",
       "<table border=\"1\" class=\"dataframe\">\n",
       "  <thead>\n",
       "    <tr style=\"text-align: right;\">\n",
       "      <th></th>\n",
       "      <th>counts</th>\n",
       "      <th>per</th>\n",
       "      <th>per100</th>\n",
       "    </tr>\n",
       "  </thead>\n",
       "  <tbody>\n",
       "    <tr>\n",
       "      <th>U</th>\n",
       "      <td>265</td>\n",
       "      <td>0.752841</td>\n",
       "      <td>75.3%</td>\n",
       "    </tr>\n",
       "    <tr>\n",
       "      <th>R</th>\n",
       "      <td>73</td>\n",
       "      <td>0.207386</td>\n",
       "      <td>20.7%</td>\n",
       "    </tr>\n",
       "    <tr>\n",
       "      <th>NaN</th>\n",
       "      <td>14</td>\n",
       "      <td>0.039773</td>\n",
       "      <td>4.0%</td>\n",
       "    </tr>\n",
       "  </tbody>\n",
       "</table>\n",
       "</div>"
      ],
      "text/plain": [
       "     counts       per per100\n",
       "U       265  0.752841  75.3%\n",
       "R        73  0.207386  20.7%\n",
       "NaN      14  0.039773   4.0%"
      ]
     },
     "metadata": {},
     "output_type": "display_data"
    },
    {
     "name": "stdout",
     "output_type": "stream",
     "text": [
      "count     338\n",
      "unique      2\n",
      "top         U\n",
      "freq      265\n",
      "Name: address, dtype: object\n",
      "\n",
      "Всего 2 значений в столбце address , 14 пропусков\n"
     ]
    },
    {
     "data": {
      "image/png": "[encoded data removed]",
      "text/plain": [
       "<Figure size 432x288 with 1 Axes>"
      ]
     },
     "metadata": {},
     "output_type": "display_data"
    }
   ],
   "source": [
    "# Изучаем столбец address 4/30\n",
    "\n",
    "print('address — тип адреса ученика (U - городской, R - за городом)')\n",
    "\n",
    "cont_col_describe('address')"
   ]
  },
  {
   "cell_type": "code",
   "execution_count": 19,
   "metadata": {},
   "outputs": [
    {
     "name": "stdout",
     "output_type": "stream",
     "text": [
      "famsize — размер семьи(LE3 <= 3, GT3 >3)\n"
     ]
    },
    {
     "data": {
      "text/html": [
       "<div>\n",
       "<style scoped>\n",
       "    .dataframe tbody tr th:only-of-type {\n",
       "        vertical-align: middle;\n",
       "    }\n",
       "\n",
       "    .dataframe tbody tr th {\n",
       "        vertical-align: top;\n",
       "    }\n",
       "\n",
       "    .dataframe thead th {\n",
       "        text-align: right;\n",
       "    }\n",
       "</style>\n",
       "<table border=\"1\" class=\"dataframe\">\n",
       "  <thead>\n",
       "    <tr style=\"text-align: right;\">\n",
       "      <th></th>\n",
       "      <th>counts</th>\n",
       "      <th>per</th>\n",
       "      <th>per100</th>\n",
       "    </tr>\n",
       "  </thead>\n",
       "  <tbody>\n",
       "    <tr>\n",
       "      <th>GT3</th>\n",
       "      <td>228</td>\n",
       "      <td>0.647727</td>\n",
       "      <td>64.8%</td>\n",
       "    </tr>\n",
       "    <tr>\n",
       "      <th>LE3</th>\n",
       "      <td>100</td>\n",
       "      <td>0.284091</td>\n",
       "      <td>28.4%</td>\n",
       "    </tr>\n",
       "    <tr>\n",
       "      <th>NaN</th>\n",
       "      <td>24</td>\n",
       "      <td>0.068182</td>\n",
       "      <td>6.8%</td>\n",
       "    </tr>\n",
       "  </tbody>\n",
       "</table>\n",
       "</div>"
      ],
      "text/plain": [
       "     counts       per per100\n",
       "GT3     228  0.647727  64.8%\n",
       "LE3     100  0.284091  28.4%\n",
       "NaN      24  0.068182   6.8%"
      ]
     },
     "metadata": {},
     "output_type": "display_data"
    },
    {
     "name": "stdout",
     "output_type": "stream",
     "text": [
      "count     328\n",
      "unique      2\n",
      "top       GT3\n",
      "freq      228\n",
      "Name: famsize, dtype: object\n",
      "\n",
      "Всего 2 значений в столбце famsize , 24 пропусков\n"
     ]
    },
    {
     "data": {
      "image/png": "[encoded data removed]",
      "text/plain": [
       "<Figure size 432x288 with 1 Axes>"
      ]
     },
     "metadata": {},
     "output_type": "display_data"
    }
   ],
   "source": [
    "# Изучаем столбец famsize 5/30\n",
    "\n",
    "print('famsize — размер семьи(LE3 <= 3, GT3 >3)')\n",
    "\n",
    "cont_col_describe('famsize')"
   ]
  },
  {
   "cell_type": "code",
   "execution_count": 20,
   "metadata": {},
   "outputs": [
    {
     "name": "stdout",
     "output_type": "stream",
     "text": [
      "Pstatus — статус совместного жилья родителей (T - живут вместе A - раздельно)\n"
     ]
    },
    {
     "data": {
      "text/html": [
       "<div>\n",
       "<style scoped>\n",
       "    .dataframe tbody tr th:only-of-type {\n",
       "        vertical-align: middle;\n",
       "    }\n",
       "\n",
       "    .dataframe tbody tr th {\n",
       "        vertical-align: top;\n",
       "    }\n",
       "\n",
       "    .dataframe thead th {\n",
       "        text-align: right;\n",
       "    }\n",
       "</style>\n",
       "<table border=\"1\" class=\"dataframe\">\n",
       "  <thead>\n",
       "    <tr style=\"text-align: right;\">\n",
       "      <th></th>\n",
       "      <th>counts</th>\n",
       "      <th>per</th>\n",
       "      <th>per100</th>\n",
       "    </tr>\n",
       "  </thead>\n",
       "  <tbody>\n",
       "    <tr>\n",
       "      <th>T</th>\n",
       "      <td>277</td>\n",
       "      <td>0.786932</td>\n",
       "      <td>78.7%</td>\n",
       "    </tr>\n",
       "    <tr>\n",
       "      <th>NaN</th>\n",
       "      <td>41</td>\n",
       "      <td>0.116477</td>\n",
       "      <td>11.6%</td>\n",
       "    </tr>\n",
       "    <tr>\n",
       "      <th>A</th>\n",
       "      <td>34</td>\n",
       "      <td>0.096591</td>\n",
       "      <td>9.7%</td>\n",
       "    </tr>\n",
       "  </tbody>\n",
       "</table>\n",
       "</div>"
      ],
      "text/plain": [
       "     counts       per per100\n",
       "T       277  0.786932  78.7%\n",
       "NaN      41  0.116477  11.6%\n",
       "A        34  0.096591   9.7%"
      ]
     },
     "metadata": {},
     "output_type": "display_data"
    },
    {
     "name": "stdout",
     "output_type": "stream",
     "text": [
      "count     311\n",
      "unique      2\n",
      "top         T\n",
      "freq      277\n",
      "Name: Pstatus, dtype: object\n",
      "\n",
      "Всего 2 значений в столбце Pstatus , 41 пропусков\n"
     ]
    },
    {
     "data": {
      "image/png": "[encoded data removed]",
      "text/plain": [
       "<Figure size 432x288 with 1 Axes>"
      ]
     },
     "metadata": {},
     "output_type": "display_data"
    }
   ],
   "source": [
    "# Изучаем столбец Pstatus 6/30\n",
    "\n",
    "print('Pstatus — статус совместного жилья родителей (T - живут вместе A - раздельно)')\n",
    "\n",
    "cont_col_describe('Pstatus')"
   ]
  },
  {
   "cell_type": "code",
   "execution_count": 21,
   "metadata": {},
   "outputs": [
    {
     "name": "stdout",
     "output_type": "stream",
     "text": [
      "Medu — образование матери (0 - нет, 1 - 4 класса, 2 - 5-9 классы, 3 - среднее специальное или 11 классов, 4 - высшее)\n"
     ]
    },
    {
     "data": {
      "text/html": [
       "<div>\n",
       "<style scoped>\n",
       "    .dataframe tbody tr th:only-of-type {\n",
       "        vertical-align: middle;\n",
       "    }\n",
       "\n",
       "    .dataframe tbody tr th {\n",
       "        vertical-align: top;\n",
       "    }\n",
       "\n",
       "    .dataframe thead th {\n",
       "        text-align: right;\n",
       "    }\n",
       "</style>\n",
       "<table border=\"1\" class=\"dataframe\">\n",
       "  <thead>\n",
       "    <tr style=\"text-align: right;\">\n",
       "      <th></th>\n",
       "      <th>counts</th>\n",
       "      <th>per</th>\n",
       "      <th>per100</th>\n",
       "    </tr>\n",
       "  </thead>\n",
       "  <tbody>\n",
       "    <tr>\n",
       "      <th>4.0</th>\n",
       "      <td>125</td>\n",
       "      <td>0.355114</td>\n",
       "      <td>35.5%</td>\n",
       "    </tr>\n",
       "    <tr>\n",
       "      <th>2.0</th>\n",
       "      <td>88</td>\n",
       "      <td>0.250000</td>\n",
       "      <td>25.0%</td>\n",
       "    </tr>\n",
       "    <tr>\n",
       "      <th>3.0</th>\n",
       "      <td>87</td>\n",
       "      <td>0.247159</td>\n",
       "      <td>24.7%</td>\n",
       "    </tr>\n",
       "    <tr>\n",
       "      <th>1.0</th>\n",
       "      <td>47</td>\n",
       "      <td>0.133523</td>\n",
       "      <td>13.4%</td>\n",
       "    </tr>\n",
       "    <tr>\n",
       "      <th>0.0</th>\n",
       "      <td>3</td>\n",
       "      <td>0.008523</td>\n",
       "      <td>0.9%</td>\n",
       "    </tr>\n",
       "    <tr>\n",
       "      <th>NaN</th>\n",
       "      <td>2</td>\n",
       "      <td>0.005682</td>\n",
       "      <td>0.6%</td>\n",
       "    </tr>\n",
       "  </tbody>\n",
       "</table>\n",
       "</div>"
      ],
      "text/plain": [
       "     counts       per per100\n",
       "4.0     125  0.355114  35.5%\n",
       "2.0      88  0.250000  25.0%\n",
       "3.0      87  0.247159  24.7%\n",
       "1.0      47  0.133523  13.4%\n",
       "0.0       3  0.008523   0.9%\n",
       "NaN       2  0.005682   0.6%"
      ]
     },
     "metadata": {},
     "output_type": "display_data"
    },
    {
     "name": "stdout",
     "output_type": "stream",
     "text": [
      "count    350.000000\n",
      "mean       2.811429\n",
      "std        1.091192\n",
      "min        0.000000\n",
      "25%        2.000000\n",
      "50%        3.000000\n",
      "75%        4.000000\n",
      "max        4.000000\n",
      "Name: Medu, dtype: float64\n",
      "\n",
      "Всего 5 значений в столбце Medu , 2 пропусков\n"
     ]
    },
    {
     "data": {
      "image/png": "[encoded data removed]",
      "text/plain": [
       "<Figure size 432x288 with 1 Axes>"
      ]
     },
     "metadata": {},
     "output_type": "display_data"
    }
   ],
   "source": [
    "# Изучаем столбец Medu 7/30\n",
    "\n",
    "print('Medu — образование матери (0 - нет, 1 - 4 класса, 2 - 5-9 классы, '\\\n",
    "      '3 - среднее специальное или 11 классов, 4 - высшее)')\n",
    "\n",
    "cat_col_describe('Medu')"
   ]
  },
  {
   "cell_type": "code",
   "execution_count": 22,
   "metadata": {},
   "outputs": [
    {
     "name": "stdout",
     "output_type": "stream",
     "text": [
      "Fedu — образование отца (0 - нет, 1 - 4 класса, 2 - 5-9 классы, 3 - среднее специальное или 11 классов, 4 - высшее)\n"
     ]
    },
    {
     "data": {
      "text/html": [
       "<div>\n",
       "<style scoped>\n",
       "    .dataframe tbody tr th:only-of-type {\n",
       "        vertical-align: middle;\n",
       "    }\n",
       "\n",
       "    .dataframe tbody tr th {\n",
       "        vertical-align: top;\n",
       "    }\n",
       "\n",
       "    .dataframe thead th {\n",
       "        text-align: right;\n",
       "    }\n",
       "</style>\n",
       "<table border=\"1\" class=\"dataframe\">\n",
       "  <thead>\n",
       "    <tr style=\"text-align: right;\">\n",
       "      <th></th>\n",
       "      <th>counts</th>\n",
       "      <th>per</th>\n",
       "      <th>per100</th>\n",
       "    </tr>\n",
       "  </thead>\n",
       "  <tbody>\n",
       "    <tr>\n",
       "      <th>2.0</th>\n",
       "      <td>94</td>\n",
       "      <td>0.267045</td>\n",
       "      <td>26.7%</td>\n",
       "    </tr>\n",
       "    <tr>\n",
       "      <th>3.0</th>\n",
       "      <td>89</td>\n",
       "      <td>0.252841</td>\n",
       "      <td>25.3%</td>\n",
       "    </tr>\n",
       "    <tr>\n",
       "      <th>4.0</th>\n",
       "      <td>80</td>\n",
       "      <td>0.227273</td>\n",
       "      <td>22.7%</td>\n",
       "    </tr>\n",
       "    <tr>\n",
       "      <th>1.0</th>\n",
       "      <td>65</td>\n",
       "      <td>0.184659</td>\n",
       "      <td>18.5%</td>\n",
       "    </tr>\n",
       "    <tr>\n",
       "      <th>NaN</th>\n",
       "      <td>21</td>\n",
       "      <td>0.059659</td>\n",
       "      <td>6.0%</td>\n",
       "    </tr>\n",
       "    <tr>\n",
       "      <th>0.0</th>\n",
       "      <td>2</td>\n",
       "      <td>0.005682</td>\n",
       "      <td>0.6%</td>\n",
       "    </tr>\n",
       "    <tr>\n",
       "      <th>40.0</th>\n",
       "      <td>1</td>\n",
       "      <td>0.002841</td>\n",
       "      <td>0.3%</td>\n",
       "    </tr>\n",
       "  </tbody>\n",
       "</table>\n",
       "</div>"
      ],
      "text/plain": [
       "      counts       per per100\n",
       "2.0       94  0.267045  26.7%\n",
       "3.0       89  0.252841  25.3%\n",
       "4.0       80  0.227273  22.7%\n",
       "1.0       65  0.184659  18.5%\n",
       "NaN       21  0.059659   6.0%\n",
       "0.0        2  0.005682   0.6%\n",
       "40.0       1  0.002841   0.3%"
      ]
     },
     "metadata": {},
     "output_type": "display_data"
    },
    {
     "name": "stdout",
     "output_type": "stream",
     "text": [
      "count    331.000000\n",
      "mean       2.658610\n",
      "std        2.324066\n",
      "min        0.000000\n",
      "25%        2.000000\n",
      "50%        3.000000\n",
      "75%        3.000000\n",
      "max       40.000000\n",
      "Name: Fedu, dtype: float64\n",
      "\n",
      "Всего 6 значений в столбце Fedu , 21 пропусков\n"
     ]
    },
    {
     "data": {
      "image/png": "[encoded data removed]",
      "text/plain": [
       "<Figure size 432x288 with 1 Axes>"
      ]
     },
     "metadata": {},
     "output_type": "display_data"
    }
   ],
   "source": [
    "# Изучаем столбец Fedu 8/30\n",
    "\n",
    "print('Fedu — образование отца (0 - нет, 1 - 4 класса, 2 - 5-9 классы, '\\\n",
    "      '3 - среднее специальное или 11 классов, 4 - высшее)')\n",
    "\n",
    "cat_col_describe('Fedu')"
   ]
  },
  {
   "cell_type": "code",
   "execution_count": 23,
   "metadata": {},
   "outputs": [
    {
     "data": {
      "text/plain": [
       "<matplotlib.axes._subplots.AxesSubplot at 0x230db362348>"
      ]
     },
     "execution_count": 23,
     "metadata": {},
     "output_type": "execute_result"
    },
    {
     "data": {
      "image/png": "[encoded data removed]",
      "text/plain": [
       "<Figure size 432x288 with 1 Axes>"
      ]
     },
     "metadata": {},
     "output_type": "display_data"
    }
   ],
   "source": [
    "# Очевидно, что 40 - это выброс. Удаляем его\n",
    "\n",
    "study = study.loc[study.Fedu <= 4]\n",
    "\n",
    "plt.title('Распределение значений в столбце Fedu')\n",
    "sns.distplot(study['Fedu'], bins = 5, fit=norm, kde=False)"
   ]
  },
  {
   "cell_type": "code",
   "execution_count": 24,
   "metadata": {},
   "outputs": [
    {
     "name": "stdout",
     "output_type": "stream",
     "text": [
      "Mjob — работа матери (teacher - учитель, health - сфера здравоохранения, services - гос служба, at_home - не работает, other - другое)\n"
     ]
    },
    {
     "data": {
      "text/html": [
       "<div>\n",
       "<style scoped>\n",
       "    .dataframe tbody tr th:only-of-type {\n",
       "        vertical-align: middle;\n",
       "    }\n",
       "\n",
       "    .dataframe tbody tr th {\n",
       "        vertical-align: top;\n",
       "    }\n",
       "\n",
       "    .dataframe thead th {\n",
       "        text-align: right;\n",
       "    }\n",
       "</style>\n",
       "<table border=\"1\" class=\"dataframe\">\n",
       "  <thead>\n",
       "    <tr style=\"text-align: right;\">\n",
       "      <th></th>\n",
       "      <th>counts</th>\n",
       "      <th>per</th>\n",
       "      <th>per100</th>\n",
       "    </tr>\n",
       "  </thead>\n",
       "  <tbody>\n",
       "    <tr>\n",
       "      <th>other</th>\n",
       "      <td>108</td>\n",
       "      <td>0.327273</td>\n",
       "      <td>32.7%</td>\n",
       "    </tr>\n",
       "    <tr>\n",
       "      <th>services</th>\n",
       "      <td>84</td>\n",
       "      <td>0.254545</td>\n",
       "      <td>25.5%</td>\n",
       "    </tr>\n",
       "    <tr>\n",
       "      <th>at_home</th>\n",
       "      <td>48</td>\n",
       "      <td>0.145455</td>\n",
       "      <td>14.5%</td>\n",
       "    </tr>\n",
       "    <tr>\n",
       "      <th>teacher</th>\n",
       "      <td>44</td>\n",
       "      <td>0.133333</td>\n",
       "      <td>13.3%</td>\n",
       "    </tr>\n",
       "    <tr>\n",
       "      <th>health</th>\n",
       "      <td>29</td>\n",
       "      <td>0.087879</td>\n",
       "      <td>8.8%</td>\n",
       "    </tr>\n",
       "    <tr>\n",
       "      <th>NaN</th>\n",
       "      <td>17</td>\n",
       "      <td>0.051515</td>\n",
       "      <td>5.2%</td>\n",
       "    </tr>\n",
       "  </tbody>\n",
       "</table>\n",
       "</div>"
      ],
      "text/plain": [
       "          counts       per per100\n",
       "other        108  0.327273  32.7%\n",
       "services      84  0.254545  25.5%\n",
       "at_home       48  0.145455  14.5%\n",
       "teacher       44  0.133333  13.3%\n",
       "health        29  0.087879   8.8%\n",
       "NaN           17  0.051515   5.2%"
      ]
     },
     "metadata": {},
     "output_type": "display_data"
    },
    {
     "name": "stdout",
     "output_type": "stream",
     "text": [
      "count       313\n",
      "unique        5\n",
      "top       other\n",
      "freq        108\n",
      "Name: Mjob, dtype: object\n",
      "\n",
      "Всего 5 значений в столбце Mjob , 17 пропусков\n"
     ]
    },
    {
     "data": {
      "image/png": "[encoded data removed]",
      "text/plain": [
       "<Figure size 432x288 with 1 Axes>"
      ]
     },
     "metadata": {},
     "output_type": "display_data"
    }
   ],
   "source": [
    "# Изучаем столбец Mjob 9/30\n",
    "\n",
    "print('Mjob — работа матери (teacher - учитель, health - сфера здравоохранения, '\\\n",
    "      'services - гос служба, at_home - не работает, other - другое)')\n",
    "\n",
    "cont_col_describe('Mjob')"
   ]
  },
  {
   "cell_type": "code",
   "execution_count": 25,
   "metadata": {},
   "outputs": [
    {
     "name": "stdout",
     "output_type": "stream",
     "text": [
      "Fjob — работа отца (teacher - учитель, health - сфера здравоохранения, services - гос служба, at_home - не работает, other - другое)\n"
     ]
    },
    {
     "data": {
      "text/html": [
       "<div>\n",
       "<style scoped>\n",
       "    .dataframe tbody tr th:only-of-type {\n",
       "        vertical-align: middle;\n",
       "    }\n",
       "\n",
       "    .dataframe tbody tr th {\n",
       "        vertical-align: top;\n",
       "    }\n",
       "\n",
       "    .dataframe thead th {\n",
       "        text-align: right;\n",
       "    }\n",
       "</style>\n",
       "<table border=\"1\" class=\"dataframe\">\n",
       "  <thead>\n",
       "    <tr style=\"text-align: right;\">\n",
       "      <th></th>\n",
       "      <th>counts</th>\n",
       "      <th>per</th>\n",
       "      <th>per100</th>\n",
       "    </tr>\n",
       "  </thead>\n",
       "  <tbody>\n",
       "    <tr>\n",
       "      <th>other</th>\n",
       "      <td>169</td>\n",
       "      <td>0.512121</td>\n",
       "      <td>51.2%</td>\n",
       "    </tr>\n",
       "    <tr>\n",
       "      <th>services</th>\n",
       "      <td>83</td>\n",
       "      <td>0.251515</td>\n",
       "      <td>25.2%</td>\n",
       "    </tr>\n",
       "    <tr>\n",
       "      <th>NaN</th>\n",
       "      <td>30</td>\n",
       "      <td>0.090909</td>\n",
       "      <td>9.1%</td>\n",
       "    </tr>\n",
       "    <tr>\n",
       "      <th>teacher</th>\n",
       "      <td>23</td>\n",
       "      <td>0.069697</td>\n",
       "      <td>7.0%</td>\n",
       "    </tr>\n",
       "    <tr>\n",
       "      <th>health</th>\n",
       "      <td>13</td>\n",
       "      <td>0.039394</td>\n",
       "      <td>3.9%</td>\n",
       "    </tr>\n",
       "    <tr>\n",
       "      <th>at_home</th>\n",
       "      <td>12</td>\n",
       "      <td>0.036364</td>\n",
       "      <td>3.6%</td>\n",
       "    </tr>\n",
       "  </tbody>\n",
       "</table>\n",
       "</div>"
      ],
      "text/plain": [
       "          counts       per per100\n",
       "other        169  0.512121  51.2%\n",
       "services      83  0.251515  25.2%\n",
       "NaN           30  0.090909   9.1%\n",
       "teacher       23  0.069697   7.0%\n",
       "health        13  0.039394   3.9%\n",
       "at_home       12  0.036364   3.6%"
      ]
     },
     "metadata": {},
     "output_type": "display_data"
    },
    {
     "name": "stdout",
     "output_type": "stream",
     "text": [
      "count       300\n",
      "unique        5\n",
      "top       other\n",
      "freq        169\n",
      "Name: Fjob, dtype: object\n",
      "\n",
      "Всего 5 значений в столбце Fjob , 30 пропусков\n"
     ]
    },
    {
     "data": {
      "image/png": "[encoded data removed]",
      "text/plain": [
       "<Figure size 432x288 with 1 Axes>"
      ]
     },
     "metadata": {},
     "output_type": "display_data"
    }
   ],
   "source": [
    "# Изучаем столбец Fjob 10/30\n",
    "\n",
    "print('Fjob — работа отца (teacher - учитель, health - сфера здравоохранения, services - гос служба, '\\\n",
    "      'at_home - не работает, other - другое)')\n",
    "\n",
    "cont_col_describe('Fjob')"
   ]
  },
  {
   "cell_type": "code",
   "execution_count": 26,
   "metadata": {},
   "outputs": [
    {
     "name": "stdout",
     "output_type": "stream",
     "text": [
      "reason — причина выбора школы (home - близость к дому, reputation - репутация школы, course - образовательная программа, other - другое)\n"
     ]
    },
    {
     "data": {
      "text/html": [
       "<div>\n",
       "<style scoped>\n",
       "    .dataframe tbody tr th:only-of-type {\n",
       "        vertical-align: middle;\n",
       "    }\n",
       "\n",
       "    .dataframe tbody tr th {\n",
       "        vertical-align: top;\n",
       "    }\n",
       "\n",
       "    .dataframe thead th {\n",
       "        text-align: right;\n",
       "    }\n",
       "</style>\n",
       "<table border=\"1\" class=\"dataframe\">\n",
       "  <thead>\n",
       "    <tr style=\"text-align: right;\">\n",
       "      <th></th>\n",
       "      <th>counts</th>\n",
       "      <th>per</th>\n",
       "      <th>per100</th>\n",
       "    </tr>\n",
       "  </thead>\n",
       "  <tbody>\n",
       "    <tr>\n",
       "      <th>course</th>\n",
       "      <td>111</td>\n",
       "      <td>0.336364</td>\n",
       "      <td>33.6%</td>\n",
       "    </tr>\n",
       "    <tr>\n",
       "      <th>reputation</th>\n",
       "      <td>91</td>\n",
       "      <td>0.275758</td>\n",
       "      <td>27.6%</td>\n",
       "    </tr>\n",
       "    <tr>\n",
       "      <th>home</th>\n",
       "      <td>82</td>\n",
       "      <td>0.248485</td>\n",
       "      <td>24.8%</td>\n",
       "    </tr>\n",
       "    <tr>\n",
       "      <th>other</th>\n",
       "      <td>31</td>\n",
       "      <td>0.093939</td>\n",
       "      <td>9.4%</td>\n",
       "    </tr>\n",
       "    <tr>\n",
       "      <th>NaN</th>\n",
       "      <td>15</td>\n",
       "      <td>0.045455</td>\n",
       "      <td>4.5%</td>\n",
       "    </tr>\n",
       "  </tbody>\n",
       "</table>\n",
       "</div>"
      ],
      "text/plain": [
       "            counts       per per100\n",
       "course         111  0.336364  33.6%\n",
       "reputation      91  0.275758  27.6%\n",
       "home            82  0.248485  24.8%\n",
       "other           31  0.093939   9.4%\n",
       "NaN             15  0.045455   4.5%"
      ]
     },
     "metadata": {},
     "output_type": "display_data"
    },
    {
     "name": "stdout",
     "output_type": "stream",
     "text": [
      "count        315\n",
      "unique         4\n",
      "top       course\n",
      "freq         111\n",
      "Name: reason, dtype: object\n",
      "\n",
      "Всего 4 значений в столбце reason , 15 пропусков\n"
     ]
    },
    {
     "data": {
      "image/png": "[encoded data removed]",
      "text/plain": [
       "<Figure size 432x288 with 1 Axes>"
      ]
     },
     "metadata": {},
     "output_type": "display_data"
    }
   ],
   "source": [
    "# Изучаем столбец reason 11/30\n",
    "\n",
    "print('reason — причина выбора школы (home - близость к дому, reputation - репутация школы, '\\\n",
    "      'course - образовательная программа, other - другое)')\n",
    "\n",
    "cont_col_describe('reason')"
   ]
  },
  {
   "cell_type": "code",
   "execution_count": 27,
   "metadata": {},
   "outputs": [
    {
     "name": "stdout",
     "output_type": "stream",
     "text": [
      "guardian — опекун (mother - мать, father - отец, other - другое)\n"
     ]
    },
    {
     "data": {
      "text/html": [
       "<div>\n",
       "<style scoped>\n",
       "    .dataframe tbody tr th:only-of-type {\n",
       "        vertical-align: middle;\n",
       "    }\n",
       "\n",
       "    .dataframe tbody tr th {\n",
       "        vertical-align: top;\n",
       "    }\n",
       "\n",
       "    .dataframe thead th {\n",
       "        text-align: right;\n",
       "    }\n",
       "</style>\n",
       "<table border=\"1\" class=\"dataframe\">\n",
       "  <thead>\n",
       "    <tr style=\"text-align: right;\">\n",
       "      <th></th>\n",
       "      <th>counts</th>\n",
       "      <th>per</th>\n",
       "      <th>per100</th>\n",
       "    </tr>\n",
       "  </thead>\n",
       "  <tbody>\n",
       "    <tr>\n",
       "      <th>mother</th>\n",
       "      <td>211</td>\n",
       "      <td>0.639394</td>\n",
       "      <td>63.9%</td>\n",
       "    </tr>\n",
       "    <tr>\n",
       "      <th>father</th>\n",
       "      <td>71</td>\n",
       "      <td>0.215152</td>\n",
       "      <td>21.5%</td>\n",
       "    </tr>\n",
       "    <tr>\n",
       "      <th>NaN</th>\n",
       "      <td>28</td>\n",
       "      <td>0.084848</td>\n",
       "      <td>8.5%</td>\n",
       "    </tr>\n",
       "    <tr>\n",
       "      <th>other</th>\n",
       "      <td>20</td>\n",
       "      <td>0.060606</td>\n",
       "      <td>6.1%</td>\n",
       "    </tr>\n",
       "  </tbody>\n",
       "</table>\n",
       "</div>"
      ],
      "text/plain": [
       "        counts       per per100\n",
       "mother     211  0.639394  63.9%\n",
       "father      71  0.215152  21.5%\n",
       "NaN         28  0.084848   8.5%\n",
       "other       20  0.060606   6.1%"
      ]
     },
     "metadata": {},
     "output_type": "display_data"
    },
    {
     "name": "stdout",
     "output_type": "stream",
     "text": [
      "count        302\n",
      "unique         3\n",
      "top       mother\n",
      "freq         211\n",
      "Name: guardian, dtype: object\n",
      "\n",
      "Всего 3 значений в столбце guardian , 28 пропусков\n"
     ]
    },
    {
     "data": {
      "image/png": "[encoded data removed]",
      "text/plain": [
       "<Figure size 432x288 with 1 Axes>"
      ]
     },
     "metadata": {},
     "output_type": "display_data"
    }
   ],
   "source": [
    "# Изучаем столбец guardian 12/30\n",
    "\n",
    "print('guardian — опекун (mother - мать, father - отец, other - другое)')\n",
    "\n",
    "cont_col_describe('guardian')"
   ]
  },
  {
   "cell_type": "code",
   "execution_count": 28,
   "metadata": {},
   "outputs": [
    {
     "name": "stdout",
     "output_type": "stream",
     "text": [
      "traveltime — время в пути до школы (1 - <15 мин., 2 - 15-30 мин., 3 - 30-60 мин., 4 - >60 мин.)\n"
     ]
    },
    {
     "data": {
      "text/html": [
       "<div>\n",
       "<style scoped>\n",
       "    .dataframe tbody tr th:only-of-type {\n",
       "        vertical-align: middle;\n",
       "    }\n",
       "\n",
       "    .dataframe tbody tr th {\n",
       "        vertical-align: top;\n",
       "    }\n",
       "\n",
       "    .dataframe thead th {\n",
       "        text-align: right;\n",
       "    }\n",
       "</style>\n",
       "<table border=\"1\" class=\"dataframe\">\n",
       "  <thead>\n",
       "    <tr style=\"text-align: right;\">\n",
       "      <th></th>\n",
       "      <th>counts</th>\n",
       "      <th>per</th>\n",
       "      <th>per100</th>\n",
       "    </tr>\n",
       "  </thead>\n",
       "  <tbody>\n",
       "    <tr>\n",
       "      <th>1.0</th>\n",
       "      <td>203</td>\n",
       "      <td>0.615152</td>\n",
       "      <td>61.5%</td>\n",
       "    </tr>\n",
       "    <tr>\n",
       "      <th>2.0</th>\n",
       "      <td>82</td>\n",
       "      <td>0.248485</td>\n",
       "      <td>24.8%</td>\n",
       "    </tr>\n",
       "    <tr>\n",
       "      <th>NaN</th>\n",
       "      <td>22</td>\n",
       "      <td>0.066667</td>\n",
       "      <td>6.7%</td>\n",
       "    </tr>\n",
       "    <tr>\n",
       "      <th>3.0</th>\n",
       "      <td>16</td>\n",
       "      <td>0.048485</td>\n",
       "      <td>4.8%</td>\n",
       "    </tr>\n",
       "    <tr>\n",
       "      <th>4.0</th>\n",
       "      <td>7</td>\n",
       "      <td>0.021212</td>\n",
       "      <td>2.1%</td>\n",
       "    </tr>\n",
       "  </tbody>\n",
       "</table>\n",
       "</div>"
      ],
      "text/plain": [
       "     counts       per per100\n",
       "1.0     203  0.615152  61.5%\n",
       "2.0      82  0.248485  24.8%\n",
       "NaN      22  0.066667   6.7%\n",
       "3.0      16  0.048485   4.8%\n",
       "4.0       7  0.021212   2.1%"
      ]
     },
     "metadata": {},
     "output_type": "display_data"
    },
    {
     "name": "stdout",
     "output_type": "stream",
     "text": [
      "count    308.000000\n",
      "mean       1.438312\n",
      "std        0.698598\n",
      "min        1.000000\n",
      "25%        1.000000\n",
      "50%        1.000000\n",
      "75%        2.000000\n",
      "max        4.000000\n",
      "Name: traveltime, dtype: float64\n",
      "\n",
      "Всего 4 значений в столбце traveltime , 22 пропусков\n"
     ]
    },
    {
     "data": {
      "image/png": "[encoded data removed]",
      "text/plain": [
       "<Figure size 432x288 with 1 Axes>"
      ]
     },
     "metadata": {},
     "output_type": "display_data"
    }
   ],
   "source": [
    "# Изучаем столбец traveltime 13/30\n",
    "\n",
    "print('traveltime — время в пути до школы (1 - <15 мин., 2 - 15-30 мин., 3 - 30-60 мин., 4 - >60 мин.)')\n",
    "\n",
    "cat_col_describe('traveltime')"
   ]
  },
  {
   "cell_type": "code",
   "execution_count": 29,
   "metadata": {},
   "outputs": [
    {
     "name": "stdout",
     "output_type": "stream",
     "text": [
      "studytime — время на учёбу помимо школы в неделю (1 - <2 часов, 2 - 2-5 часов, 3 - 5-10 часов, 4 - >10 часов)\n"
     ]
    },
    {
     "data": {
      "text/html": [
       "<div>\n",
       "<style scoped>\n",
       "    .dataframe tbody tr th:only-of-type {\n",
       "        vertical-align: middle;\n",
       "    }\n",
       "\n",
       "    .dataframe tbody tr th {\n",
       "        vertical-align: top;\n",
       "    }\n",
       "\n",
       "    .dataframe thead th {\n",
       "        text-align: right;\n",
       "    }\n",
       "</style>\n",
       "<table border=\"1\" class=\"dataframe\">\n",
       "  <thead>\n",
       "    <tr style=\"text-align: right;\">\n",
       "      <th></th>\n",
       "      <th>counts</th>\n",
       "      <th>per</th>\n",
       "      <th>per100</th>\n",
       "    </tr>\n",
       "  </thead>\n",
       "  <tbody>\n",
       "    <tr>\n",
       "      <th>2.0</th>\n",
       "      <td>162</td>\n",
       "      <td>0.490909</td>\n",
       "      <td>49.1%</td>\n",
       "    </tr>\n",
       "    <tr>\n",
       "      <th>1.0</th>\n",
       "      <td>86</td>\n",
       "      <td>0.260606</td>\n",
       "      <td>26.1%</td>\n",
       "    </tr>\n",
       "    <tr>\n",
       "      <th>3.0</th>\n",
       "      <td>52</td>\n",
       "      <td>0.157576</td>\n",
       "      <td>15.8%</td>\n",
       "    </tr>\n",
       "    <tr>\n",
       "      <th>4.0</th>\n",
       "      <td>23</td>\n",
       "      <td>0.069697</td>\n",
       "      <td>7.0%</td>\n",
       "    </tr>\n",
       "    <tr>\n",
       "      <th>NaN</th>\n",
       "      <td>7</td>\n",
       "      <td>0.021212</td>\n",
       "      <td>2.1%</td>\n",
       "    </tr>\n",
       "  </tbody>\n",
       "</table>\n",
       "</div>"
      ],
      "text/plain": [
       "     counts       per per100\n",
       "2.0     162  0.490909  49.1%\n",
       "1.0      86  0.260606  26.1%\n",
       "3.0      52  0.157576  15.8%\n",
       "4.0      23  0.069697   7.0%\n",
       "NaN       7  0.021212   2.1%"
      ]
     },
     "metadata": {},
     "output_type": "display_data"
    },
    {
     "name": "stdout",
     "output_type": "stream",
     "text": [
      "count    323.000000\n",
      "mean       2.037152\n",
      "std        0.844335\n",
      "min        1.000000\n",
      "25%        1.000000\n",
      "50%        2.000000\n",
      "75%        2.000000\n",
      "max        4.000000\n",
      "Name: studytime, dtype: float64\n",
      "\n",
      "Всего 4 значений в столбце studytime , 7 пропусков\n"
     ]
    },
    {
     "data": {
      "image/png": "[encoded data removed]",
      "text/plain": [
       "<Figure size 432x288 with 1 Axes>"
      ]
     },
     "metadata": {},
     "output_type": "display_data"
    }
   ],
   "source": [
    "# Изучаем столбец studytime 14/30\n",
    "\n",
    "print('studytime — время на учёбу помимо школы в неделю (1 - <2 часов, 2 - 2-5 часов, 3 - 5-10 часов, 4 - >10 часов)')\n",
    "\n",
    "cat_col_describe('studytime')"
   ]
  },
  {
   "cell_type": "code",
   "execution_count": 30,
   "metadata": {},
   "outputs": [
    {
     "name": "stdout",
     "output_type": "stream",
     "text": [
      "failures — количество внеучебных неудач (n, если 1<=n<3, иначе 4)\n"
     ]
    },
    {
     "data": {
      "text/html": [
       "<div>\n",
       "<style scoped>\n",
       "    .dataframe tbody tr th:only-of-type {\n",
       "        vertical-align: middle;\n",
       "    }\n",
       "\n",
       "    .dataframe tbody tr th {\n",
       "        vertical-align: top;\n",
       "    }\n",
       "\n",
       "    .dataframe thead th {\n",
       "        text-align: right;\n",
       "    }\n",
       "</style>\n",
       "<table border=\"1\" class=\"dataframe\">\n",
       "  <thead>\n",
       "    <tr style=\"text-align: right;\">\n",
       "      <th></th>\n",
       "      <th>counts</th>\n",
       "      <th>per</th>\n",
       "      <th>per100</th>\n",
       "    </tr>\n",
       "  </thead>\n",
       "  <tbody>\n",
       "    <tr>\n",
       "      <th>0.0</th>\n",
       "      <td>258</td>\n",
       "      <td>0.781818</td>\n",
       "      <td>78.2%</td>\n",
       "    </tr>\n",
       "    <tr>\n",
       "      <th>1.0</th>\n",
       "      <td>35</td>\n",
       "      <td>0.106061</td>\n",
       "      <td>10.6%</td>\n",
       "    </tr>\n",
       "    <tr>\n",
       "      <th>NaN</th>\n",
       "      <td>17</td>\n",
       "      <td>0.051515</td>\n",
       "      <td>5.2%</td>\n",
       "    </tr>\n",
       "    <tr>\n",
       "      <th>2.0</th>\n",
       "      <td>10</td>\n",
       "      <td>0.030303</td>\n",
       "      <td>3.0%</td>\n",
       "    </tr>\n",
       "    <tr>\n",
       "      <th>3.0</th>\n",
       "      <td>10</td>\n",
       "      <td>0.030303</td>\n",
       "      <td>3.0%</td>\n",
       "    </tr>\n",
       "  </tbody>\n",
       "</table>\n",
       "</div>"
      ],
      "text/plain": [
       "     counts       per per100\n",
       "0.0     258  0.781818  78.2%\n",
       "1.0      35  0.106061  10.6%\n",
       "NaN      17  0.051515   5.2%\n",
       "2.0      10  0.030303   3.0%\n",
       "3.0      10  0.030303   3.0%"
      ]
     },
     "metadata": {},
     "output_type": "display_data"
    },
    {
     "name": "stdout",
     "output_type": "stream",
     "text": [
      "count    313.000000\n",
      "mean       0.271565\n",
      "std        0.674435\n",
      "min        0.000000\n",
      "25%        0.000000\n",
      "50%        0.000000\n",
      "75%        0.000000\n",
      "max        3.000000\n",
      "Name: failures, dtype: float64\n",
      "\n",
      "Всего 4 значений в столбце failures , 17 пропусков\n"
     ]
    },
    {
     "data": {
      "image/png": "[encoded data removed]",
      "text/plain": [
       "<Figure size 432x288 with 1 Axes>"
      ]
     },
     "metadata": {},
     "output_type": "display_data"
    }
   ],
   "source": [
    "# Изучаем столбец failures 15/30\n",
    "\n",
    "print('failures — количество внеучебных неудач (n, если 1<=n<3, иначе 4)')\n",
    "\n",
    "cat_col_describe('failures')"
   ]
  },
  {
   "cell_type": "code",
   "execution_count": 31,
   "metadata": {},
   "outputs": [
    {
     "name": "stdout",
     "output_type": "stream",
     "text": [
      "schoolsup — дополнительная образовательная поддержка (yes или no)\n"
     ]
    },
    {
     "data": {
      "text/html": [
       "<div>\n",
       "<style scoped>\n",
       "    .dataframe tbody tr th:only-of-type {\n",
       "        vertical-align: middle;\n",
       "    }\n",
       "\n",
       "    .dataframe tbody tr th {\n",
       "        vertical-align: top;\n",
       "    }\n",
       "\n",
       "    .dataframe thead th {\n",
       "        text-align: right;\n",
       "    }\n",
       "</style>\n",
       "<table border=\"1\" class=\"dataframe\">\n",
       "  <thead>\n",
       "    <tr style=\"text-align: right;\">\n",
       "      <th></th>\n",
       "      <th>counts</th>\n",
       "      <th>per</th>\n",
       "      <th>per100</th>\n",
       "    </tr>\n",
       "  </thead>\n",
       "  <tbody>\n",
       "    <tr>\n",
       "      <th>no</th>\n",
       "      <td>277</td>\n",
       "      <td>0.839394</td>\n",
       "      <td>83.9%</td>\n",
       "    </tr>\n",
       "    <tr>\n",
       "      <th>yes</th>\n",
       "      <td>44</td>\n",
       "      <td>0.133333</td>\n",
       "      <td>13.3%</td>\n",
       "    </tr>\n",
       "    <tr>\n",
       "      <th>NaN</th>\n",
       "      <td>9</td>\n",
       "      <td>0.027273</td>\n",
       "      <td>2.7%</td>\n",
       "    </tr>\n",
       "  </tbody>\n",
       "</table>\n",
       "</div>"
      ],
      "text/plain": [
       "     counts       per per100\n",
       "no      277  0.839394  83.9%\n",
       "yes      44  0.133333  13.3%\n",
       "NaN       9  0.027273   2.7%"
      ]
     },
     "metadata": {},
     "output_type": "display_data"
    },
    {
     "name": "stdout",
     "output_type": "stream",
     "text": [
      "count     321\n",
      "unique      2\n",
      "top        no\n",
      "freq      277\n",
      "Name: schoolsup, dtype: object\n",
      "\n",
      "Всего 2 значений в столбце schoolsup , 9 пропусков\n"
     ]
    },
    {
     "data": {
      "image/png": "[encoded data removed]",
      "text/plain": [
       "<Figure size 432x288 with 1 Axes>"
      ]
     },
     "metadata": {},
     "output_type": "display_data"
    }
   ],
   "source": [
    "# Изучаем столбец schoolsup 16/30\n",
    "\n",
    "print('schoolsup — дополнительная образовательная поддержка (yes или no)')\n",
    "\n",
    "cont_col_describe('schoolsup')"
   ]
  },
  {
   "cell_type": "code",
   "execution_count": 32,
   "metadata": {},
   "outputs": [
    {
     "name": "stdout",
     "output_type": "stream",
     "text": [
      "famsup — семейная образовательная поддержка (yes или no)\n"
     ]
    },
    {
     "data": {
      "text/html": [
       "<div>\n",
       "<style scoped>\n",
       "    .dataframe tbody tr th:only-of-type {\n",
       "        vertical-align: middle;\n",
       "    }\n",
       "\n",
       "    .dataframe tbody tr th {\n",
       "        vertical-align: top;\n",
       "    }\n",
       "\n",
       "    .dataframe thead th {\n",
       "        text-align: right;\n",
       "    }\n",
       "</style>\n",
       "<table border=\"1\" class=\"dataframe\">\n",
       "  <thead>\n",
       "    <tr style=\"text-align: right;\">\n",
       "      <th></th>\n",
       "      <th>counts</th>\n",
       "      <th>per</th>\n",
       "      <th>per100</th>\n",
       "    </tr>\n",
       "  </thead>\n",
       "  <tbody>\n",
       "    <tr>\n",
       "      <th>yes</th>\n",
       "      <td>182</td>\n",
       "      <td>0.551515</td>\n",
       "      <td>55.2%</td>\n",
       "    </tr>\n",
       "    <tr>\n",
       "      <th>no</th>\n",
       "      <td>116</td>\n",
       "      <td>0.351515</td>\n",
       "      <td>35.2%</td>\n",
       "    </tr>\n",
       "    <tr>\n",
       "      <th>NaN</th>\n",
       "      <td>32</td>\n",
       "      <td>0.096970</td>\n",
       "      <td>9.7%</td>\n",
       "    </tr>\n",
       "  </tbody>\n",
       "</table>\n",
       "</div>"
      ],
      "text/plain": [
       "     counts       per per100\n",
       "yes     182  0.551515  55.2%\n",
       "no      116  0.351515  35.2%\n",
       "NaN      32  0.096970   9.7%"
      ]
     },
     "metadata": {},
     "output_type": "display_data"
    },
    {
     "name": "stdout",
     "output_type": "stream",
     "text": [
      "count     298\n",
      "unique      2\n",
      "top       yes\n",
      "freq      182\n",
      "Name: famsup, dtype: object\n",
      "\n",
      "Всего 2 значений в столбце famsup , 32 пропусков\n"
     ]
    },
    {
     "data": {
      "image/png": "[encoded data removed]",
      "text/plain": [
       "<Figure size 432x288 with 1 Axes>"
      ]
     },
     "metadata": {},
     "output_type": "display_data"
    }
   ],
   "source": [
    "# Изучаем столбец famsup 17/30\n",
    "\n",
    "print('famsup — семейная образовательная поддержка (yes или no)')\n",
    "\n",
    "cont_col_describe('famsup')"
   ]
  },
  {
   "cell_type": "code",
   "execution_count": 33,
   "metadata": {},
   "outputs": [
    {
     "name": "stdout",
     "output_type": "stream",
     "text": [
      "paid — дополнительные платные занятия по математике (yes или no)\n"
     ]
    },
    {
     "data": {
      "text/html": [
       "<div>\n",
       "<style scoped>\n",
       "    .dataframe tbody tr th:only-of-type {\n",
       "        vertical-align: middle;\n",
       "    }\n",
       "\n",
       "    .dataframe tbody tr th {\n",
       "        vertical-align: top;\n",
       "    }\n",
       "\n",
       "    .dataframe thead th {\n",
       "        text-align: right;\n",
       "    }\n",
       "</style>\n",
       "<table border=\"1\" class=\"dataframe\">\n",
       "  <thead>\n",
       "    <tr style=\"text-align: right;\">\n",
       "      <th></th>\n",
       "      <th>counts</th>\n",
       "      <th>per</th>\n",
       "      <th>per100</th>\n",
       "    </tr>\n",
       "  </thead>\n",
       "  <tbody>\n",
       "    <tr>\n",
       "      <th>no</th>\n",
       "      <td>160</td>\n",
       "      <td>0.484848</td>\n",
       "      <td>48.5%</td>\n",
       "    </tr>\n",
       "    <tr>\n",
       "      <th>yes</th>\n",
       "      <td>137</td>\n",
       "      <td>0.415152</td>\n",
       "      <td>41.5%</td>\n",
       "    </tr>\n",
       "    <tr>\n",
       "      <th>NaN</th>\n",
       "      <td>33</td>\n",
       "      <td>0.100000</td>\n",
       "      <td>10.0%</td>\n",
       "    </tr>\n",
       "  </tbody>\n",
       "</table>\n",
       "</div>"
      ],
      "text/plain": [
       "     counts       per per100\n",
       "no      160  0.484848  48.5%\n",
       "yes     137  0.415152  41.5%\n",
       "NaN      33  0.100000  10.0%"
      ]
     },
     "metadata": {},
     "output_type": "display_data"
    },
    {
     "name": "stdout",
     "output_type": "stream",
     "text": [
      "count     297\n",
      "unique      2\n",
      "top        no\n",
      "freq      160\n",
      "Name: paid, dtype: object\n",
      "\n",
      "Всего 2 значений в столбце paid , 33 пропусков\n"
     ]
    },
    {
     "data": {
      "image/png": "[encoded data removed]",
      "text/plain": [
       "<Figure size 432x288 with 1 Axes>"
      ]
     },
     "metadata": {},
     "output_type": "display_data"
    }
   ],
   "source": [
    "# Изучаем столбец paid 18/30\n",
    "\n",
    "print('paid — дополнительные платные занятия по математике (yes или no)')\n",
    "\n",
    "cont_col_describe('paid')"
   ]
  },
  {
   "cell_type": "code",
   "execution_count": 34,
   "metadata": {},
   "outputs": [
    {
     "name": "stdout",
     "output_type": "stream",
     "text": [
      "activities — дополнительные внеучебные занятия (yes или no)\n"
     ]
    },
    {
     "data": {
      "text/html": [
       "<div>\n",
       "<style scoped>\n",
       "    .dataframe tbody tr th:only-of-type {\n",
       "        vertical-align: middle;\n",
       "    }\n",
       "\n",
       "    .dataframe tbody tr th {\n",
       "        vertical-align: top;\n",
       "    }\n",
       "\n",
       "    .dataframe thead th {\n",
       "        text-align: right;\n",
       "    }\n",
       "</style>\n",
       "<table border=\"1\" class=\"dataframe\">\n",
       "  <thead>\n",
       "    <tr style=\"text-align: right;\">\n",
       "      <th></th>\n",
       "      <th>counts</th>\n",
       "      <th>per</th>\n",
       "      <th>per100</th>\n",
       "    </tr>\n",
       "  </thead>\n",
       "  <tbody>\n",
       "    <tr>\n",
       "      <th>yes</th>\n",
       "      <td>160</td>\n",
       "      <td>0.484848</td>\n",
       "      <td>48.5%</td>\n",
       "    </tr>\n",
       "    <tr>\n",
       "      <th>no</th>\n",
       "      <td>158</td>\n",
       "      <td>0.478788</td>\n",
       "      <td>47.9%</td>\n",
       "    </tr>\n",
       "    <tr>\n",
       "      <th>NaN</th>\n",
       "      <td>12</td>\n",
       "      <td>0.036364</td>\n",
       "      <td>3.6%</td>\n",
       "    </tr>\n",
       "  </tbody>\n",
       "</table>\n",
       "</div>"
      ],
      "text/plain": [
       "     counts       per per100\n",
       "yes     160  0.484848  48.5%\n",
       "no      158  0.478788  47.9%\n",
       "NaN      12  0.036364   3.6%"
      ]
     },
     "metadata": {},
     "output_type": "display_data"
    },
    {
     "name": "stdout",
     "output_type": "stream",
     "text": [
      "count     318\n",
      "unique      2\n",
      "top       yes\n",
      "freq      160\n",
      "Name: activities, dtype: object\n",
      "\n",
      "Всего 2 значений в столбце activities , 12 пропусков\n"
     ]
    },
    {
     "data": {
      "image/png": "[encoded data removed]",
      "text/plain": [
       "<Figure size 432x288 with 1 Axes>"
      ]
     },
     "metadata": {},
     "output_type": "display_data"
    }
   ],
   "source": [
    "# Изучаем столбец activities 19/30\n",
    "\n",
    "print('activities — дополнительные внеучебные занятия (yes или no)')\n",
    "\n",
    "cont_col_describe('activities')"
   ]
  },
  {
   "cell_type": "code",
   "execution_count": 35,
   "metadata": {},
   "outputs": [
    {
     "name": "stdout",
     "output_type": "stream",
     "text": [
      "nursery — посещал детский сад (yes или no)\n"
     ]
    },
    {
     "data": {
      "text/html": [
       "<div>\n",
       "<style scoped>\n",
       "    .dataframe tbody tr th:only-of-type {\n",
       "        vertical-align: middle;\n",
       "    }\n",
       "\n",
       "    .dataframe tbody tr th {\n",
       "        vertical-align: top;\n",
       "    }\n",
       "\n",
       "    .dataframe thead th {\n",
       "        text-align: right;\n",
       "    }\n",
       "</style>\n",
       "<table border=\"1\" class=\"dataframe\">\n",
       "  <thead>\n",
       "    <tr style=\"text-align: right;\">\n",
       "      <th></th>\n",
       "      <th>counts</th>\n",
       "      <th>per</th>\n",
       "      <th>per100</th>\n",
       "    </tr>\n",
       "  </thead>\n",
       "  <tbody>\n",
       "    <tr>\n",
       "      <th>yes</th>\n",
       "      <td>252</td>\n",
       "      <td>0.763636</td>\n",
       "      <td>76.4%</td>\n",
       "    </tr>\n",
       "    <tr>\n",
       "      <th>no</th>\n",
       "      <td>66</td>\n",
       "      <td>0.200000</td>\n",
       "      <td>20.0%</td>\n",
       "    </tr>\n",
       "    <tr>\n",
       "      <th>NaN</th>\n",
       "      <td>12</td>\n",
       "      <td>0.036364</td>\n",
       "      <td>3.6%</td>\n",
       "    </tr>\n",
       "  </tbody>\n",
       "</table>\n",
       "</div>"
      ],
      "text/plain": [
       "     counts       per per100\n",
       "yes     252  0.763636  76.4%\n",
       "no       66  0.200000  20.0%\n",
       "NaN      12  0.036364   3.6%"
      ]
     },
     "metadata": {},
     "output_type": "display_data"
    },
    {
     "name": "stdout",
     "output_type": "stream",
     "text": [
      "count     318\n",
      "unique      2\n",
      "top       yes\n",
      "freq      252\n",
      "Name: nursery, dtype: object\n",
      "\n",
      "Всего 2 значений в столбце nursery , 12 пропусков\n"
     ]
    },
    {
     "data": {
      "image/png": "[encoded data removed]",
      "text/plain": [
       "<Figure size 432x288 with 1 Axes>"
      ]
     },
     "metadata": {},
     "output_type": "display_data"
    }
   ],
   "source": [
    "# Изучаем столбец nursery 20/30\n",
    "\n",
    "print('nursery — посещал детский сад (yes или no)')\n",
    "\n",
    "cont_col_describe('nursery')"
   ]
  },
  {
   "cell_type": "code",
   "execution_count": 36,
   "metadata": {},
   "outputs": [
    {
     "name": "stdout",
     "output_type": "stream",
     "text": [
      "\n"
     ]
    },
    {
     "data": {
      "text/html": [
       "<div>\n",
       "<style scoped>\n",
       "    .dataframe tbody tr th:only-of-type {\n",
       "        vertical-align: middle;\n",
       "    }\n",
       "\n",
       "    .dataframe tbody tr th {\n",
       "        vertical-align: top;\n",
       "    }\n",
       "\n",
       "    .dataframe thead th {\n",
       "        text-align: right;\n",
       "    }\n",
       "</style>\n",
       "<table border=\"1\" class=\"dataframe\">\n",
       "  <thead>\n",
       "    <tr style=\"text-align: right;\">\n",
       "      <th></th>\n",
       "      <th>counts</th>\n",
       "      <th>per</th>\n",
       "      <th>per100</th>\n",
       "    </tr>\n",
       "  </thead>\n",
       "  <tbody>\n",
       "    <tr>\n",
       "      <th>-6.0</th>\n",
       "      <td>162</td>\n",
       "      <td>0.490909</td>\n",
       "      <td>49.1%</td>\n",
       "    </tr>\n",
       "    <tr>\n",
       "      <th>-3.0</th>\n",
       "      <td>86</td>\n",
       "      <td>0.260606</td>\n",
       "      <td>26.1%</td>\n",
       "    </tr>\n",
       "    <tr>\n",
       "      <th>-9.0</th>\n",
       "      <td>52</td>\n",
       "      <td>0.157576</td>\n",
       "      <td>15.8%</td>\n",
       "    </tr>\n",
       "    <tr>\n",
       "      <th>-12.0</th>\n",
       "      <td>23</td>\n",
       "      <td>0.069697</td>\n",
       "      <td>7.0%</td>\n",
       "    </tr>\n",
       "    <tr>\n",
       "      <th>NaN</th>\n",
       "      <td>7</td>\n",
       "      <td>0.021212</td>\n",
       "      <td>2.1%</td>\n",
       "    </tr>\n",
       "  </tbody>\n",
       "</table>\n",
       "</div>"
      ],
      "text/plain": [
       "       counts       per per100\n",
       "-6.0      162  0.490909  49.1%\n",
       "-3.0       86  0.260606  26.1%\n",
       "-9.0       52  0.157576  15.8%\n",
       "-12.0      23  0.069697   7.0%\n",
       " NaN        7  0.021212   2.1%"
      ]
     },
     "metadata": {},
     "output_type": "display_data"
    },
    {
     "name": "stdout",
     "output_type": "stream",
     "text": [
      "count    323.000000\n",
      "mean      -6.111455\n",
      "std        2.533004\n",
      "min      -12.000000\n",
      "25%       -6.000000\n",
      "50%       -6.000000\n",
      "75%       -3.000000\n",
      "max       -3.000000\n",
      "Name: studytime, granular, dtype: float64\n",
      "\n",
      "Всего 4 значений в столбце studytime, granular , 7 пропусков\n"
     ]
    },
    {
     "data": {
      "image/png": "[encoded data removed]",
      "text/plain": [
       "<Figure size 432x288 with 1 Axes>"
      ]
     },
     "metadata": {},
     "output_type": "display_data"
    }
   ],
   "source": [
    "# Изучаем столбец studytime, granular 21/30\n",
    "\n",
    "print('')\n",
    "\n",
    "cat_col_describe('studytime, granular')"
   ]
  },
  {
   "cell_type": "code",
   "execution_count": 37,
   "metadata": {},
   "outputs": [
    {
     "name": "stdout",
     "output_type": "stream",
     "text": [
      "higher — хочет получить высшее образование (yes или no)\n"
     ]
    },
    {
     "data": {
      "text/html": [
       "<div>\n",
       "<style scoped>\n",
       "    .dataframe tbody tr th:only-of-type {\n",
       "        vertical-align: middle;\n",
       "    }\n",
       "\n",
       "    .dataframe tbody tr th {\n",
       "        vertical-align: top;\n",
       "    }\n",
       "\n",
       "    .dataframe thead th {\n",
       "        text-align: right;\n",
       "    }\n",
       "</style>\n",
       "<table border=\"1\" class=\"dataframe\">\n",
       "  <thead>\n",
       "    <tr style=\"text-align: right;\">\n",
       "      <th></th>\n",
       "      <th>counts</th>\n",
       "      <th>per</th>\n",
       "      <th>per100</th>\n",
       "    </tr>\n",
       "  </thead>\n",
       "  <tbody>\n",
       "    <tr>\n",
       "      <th>yes</th>\n",
       "      <td>300</td>\n",
       "      <td>0.909091</td>\n",
       "      <td>90.9%</td>\n",
       "    </tr>\n",
       "    <tr>\n",
       "      <th>NaN</th>\n",
       "      <td>17</td>\n",
       "      <td>0.051515</td>\n",
       "      <td>5.2%</td>\n",
       "    </tr>\n",
       "    <tr>\n",
       "      <th>no</th>\n",
       "      <td>13</td>\n",
       "      <td>0.039394</td>\n",
       "      <td>3.9%</td>\n",
       "    </tr>\n",
       "  </tbody>\n",
       "</table>\n",
       "</div>"
      ],
      "text/plain": [
       "     counts       per per100\n",
       "yes     300  0.909091  90.9%\n",
       "NaN      17  0.051515   5.2%\n",
       "no       13  0.039394   3.9%"
      ]
     },
     "metadata": {},
     "output_type": "display_data"
    },
    {
     "name": "stdout",
     "output_type": "stream",
     "text": [
      "count     313\n",
      "unique      2\n",
      "top       yes\n",
      "freq      300\n",
      "Name: higher, dtype: object\n",
      "\n",
      "Всего 2 значений в столбце higher , 17 пропусков\n"
     ]
    },
    {
     "data": {
      "image/png": "[encoded data removed]",
      "text/plain": [
       "<Figure size 432x288 with 1 Axes>"
      ]
     },
     "metadata": {},
     "output_type": "display_data"
    }
   ],
   "source": [
    "# Изучаем столбец higher 22/30\n",
    "\n",
    "print('higher — хочет получить высшее образование (yes или no)')\n",
    "\n",
    "cont_col_describe('higher')"
   ]
  },
  {
   "cell_type": "code",
   "execution_count": 38,
   "metadata": {},
   "outputs": [
    {
     "name": "stdout",
     "output_type": "stream",
     "text": [
      "internet — наличие интернета дома (yes или no)\n"
     ]
    },
    {
     "data": {
      "text/html": [
       "<div>\n",
       "<style scoped>\n",
       "    .dataframe tbody tr th:only-of-type {\n",
       "        vertical-align: middle;\n",
       "    }\n",
       "\n",
       "    .dataframe tbody tr th {\n",
       "        vertical-align: top;\n",
       "    }\n",
       "\n",
       "    .dataframe thead th {\n",
       "        text-align: right;\n",
       "    }\n",
       "</style>\n",
       "<table border=\"1\" class=\"dataframe\">\n",
       "  <thead>\n",
       "    <tr style=\"text-align: right;\">\n",
       "      <th></th>\n",
       "      <th>counts</th>\n",
       "      <th>per</th>\n",
       "      <th>per100</th>\n",
       "    </tr>\n",
       "  </thead>\n",
       "  <tbody>\n",
       "    <tr>\n",
       "      <th>yes</th>\n",
       "      <td>253</td>\n",
       "      <td>0.766667</td>\n",
       "      <td>76.7%</td>\n",
       "    </tr>\n",
       "    <tr>\n",
       "      <th>no</th>\n",
       "      <td>48</td>\n",
       "      <td>0.145455</td>\n",
       "      <td>14.5%</td>\n",
       "    </tr>\n",
       "    <tr>\n",
       "      <th>NaN</th>\n",
       "      <td>29</td>\n",
       "      <td>0.087879</td>\n",
       "      <td>8.8%</td>\n",
       "    </tr>\n",
       "  </tbody>\n",
       "</table>\n",
       "</div>"
      ],
      "text/plain": [
       "     counts       per per100\n",
       "yes     253  0.766667  76.7%\n",
       "no       48  0.145455  14.5%\n",
       "NaN      29  0.087879   8.8%"
      ]
     },
     "metadata": {},
     "output_type": "display_data"
    },
    {
     "name": "stdout",
     "output_type": "stream",
     "text": [
      "count     301\n",
      "unique      2\n",
      "top       yes\n",
      "freq      253\n",
      "Name: internet, dtype: object\n",
      "\n",
      "Всего 2 значений в столбце internet , 29 пропусков\n"
     ]
    },
    {
     "data": {
      "image/png": "[encoded data removed]",
      "text/plain": [
       "<Figure size 432x288 with 1 Axes>"
      ]
     },
     "metadata": {},
     "output_type": "display_data"
    }
   ],
   "source": [
    "# Изучаем столбец internet 23/30\n",
    "\n",
    "print('internet — наличие интернета дома (yes или no)')\n",
    "\n",
    "cont_col_describe('internet')"
   ]
  },
  {
   "cell_type": "code",
   "execution_count": 39,
   "metadata": {},
   "outputs": [
    {
     "name": "stdout",
     "output_type": "stream",
     "text": [
      "romantic — в романтических отношениях (yes или no)\n"
     ]
    },
    {
     "data": {
      "text/html": [
       "<div>\n",
       "<style scoped>\n",
       "    .dataframe tbody tr th:only-of-type {\n",
       "        vertical-align: middle;\n",
       "    }\n",
       "\n",
       "    .dataframe tbody tr th {\n",
       "        vertical-align: top;\n",
       "    }\n",
       "\n",
       "    .dataframe thead th {\n",
       "        text-align: right;\n",
       "    }\n",
       "</style>\n",
       "<table border=\"1\" class=\"dataframe\">\n",
       "  <thead>\n",
       "    <tr style=\"text-align: right;\">\n",
       "      <th></th>\n",
       "      <th>counts</th>\n",
       "      <th>per</th>\n",
       "      <th>per100</th>\n",
       "    </tr>\n",
       "  </thead>\n",
       "  <tbody>\n",
       "    <tr>\n",
       "      <th>no</th>\n",
       "      <td>205</td>\n",
       "      <td>0.621212</td>\n",
       "      <td>62.1%</td>\n",
       "    </tr>\n",
       "    <tr>\n",
       "      <th>yes</th>\n",
       "      <td>99</td>\n",
       "      <td>0.300000</td>\n",
       "      <td>30.0%</td>\n",
       "    </tr>\n",
       "    <tr>\n",
       "      <th>NaN</th>\n",
       "      <td>26</td>\n",
       "      <td>0.078788</td>\n",
       "      <td>7.9%</td>\n",
       "    </tr>\n",
       "  </tbody>\n",
       "</table>\n",
       "</div>"
      ],
      "text/plain": [
       "     counts       per per100\n",
       "no      205  0.621212  62.1%\n",
       "yes      99  0.300000  30.0%\n",
       "NaN      26  0.078788   7.9%"
      ]
     },
     "metadata": {},
     "output_type": "display_data"
    },
    {
     "name": "stdout",
     "output_type": "stream",
     "text": [
      "count     304\n",
      "unique      2\n",
      "top        no\n",
      "freq      205\n",
      "Name: romantic, dtype: object\n",
      "\n",
      "Всего 2 значений в столбце romantic , 26 пропусков\n"
     ]
    },
    {
     "data": {
      "image/png": "[encoded data removed]",
      "text/plain": [
       "<Figure size 432x288 with 1 Axes>"
      ]
     },
     "metadata": {},
     "output_type": "display_data"
    }
   ],
   "source": [
    "# Изучаем столбец romantic 24/30\n",
    "\n",
    "print('romantic — в романтических отношениях (yes или no)')\n",
    "\n",
    "cont_col_describe('romantic')"
   ]
  },
  {
   "cell_type": "code",
   "execution_count": 40,
   "metadata": {},
   "outputs": [
    {
     "name": "stdout",
     "output_type": "stream",
     "text": [
      "famrel — семейные отношения (от 1 - очень плохо до 5 - очень хорошо)\n"
     ]
    },
    {
     "data": {
      "text/html": [
       "<div>\n",
       "<style scoped>\n",
       "    .dataframe tbody tr th:only-of-type {\n",
       "        vertical-align: middle;\n",
       "    }\n",
       "\n",
       "    .dataframe tbody tr th {\n",
       "        vertical-align: top;\n",
       "    }\n",
       "\n",
       "    .dataframe thead th {\n",
       "        text-align: right;\n",
       "    }\n",
       "</style>\n",
       "<table border=\"1\" class=\"dataframe\">\n",
       "  <thead>\n",
       "    <tr style=\"text-align: right;\">\n",
       "      <th></th>\n",
       "      <th>counts</th>\n",
       "      <th>per</th>\n",
       "      <th>per100</th>\n",
       "    </tr>\n",
       "  </thead>\n",
       "  <tbody>\n",
       "    <tr>\n",
       "      <th>4.0</th>\n",
       "      <td>151</td>\n",
       "      <td>0.457576</td>\n",
       "      <td>45.8%</td>\n",
       "    </tr>\n",
       "    <tr>\n",
       "      <th>5.0</th>\n",
       "      <td>84</td>\n",
       "      <td>0.254545</td>\n",
       "      <td>25.5%</td>\n",
       "    </tr>\n",
       "    <tr>\n",
       "      <th>3.0</th>\n",
       "      <td>54</td>\n",
       "      <td>0.163636</td>\n",
       "      <td>16.4%</td>\n",
       "    </tr>\n",
       "    <tr>\n",
       "      <th>NaN</th>\n",
       "      <td>21</td>\n",
       "      <td>0.063636</td>\n",
       "      <td>6.4%</td>\n",
       "    </tr>\n",
       "    <tr>\n",
       "      <th>2.0</th>\n",
       "      <td>13</td>\n",
       "      <td>0.039394</td>\n",
       "      <td>3.9%</td>\n",
       "    </tr>\n",
       "    <tr>\n",
       "      <th>1.0</th>\n",
       "      <td>6</td>\n",
       "      <td>0.018182</td>\n",
       "      <td>1.8%</td>\n",
       "    </tr>\n",
       "    <tr>\n",
       "      <th>-1.0</th>\n",
       "      <td>1</td>\n",
       "      <td>0.003030</td>\n",
       "      <td>0.3%</td>\n",
       "    </tr>\n",
       "  </tbody>\n",
       "</table>\n",
       "</div>"
      ],
      "text/plain": [
       "      counts       per per100\n",
       " 4.0     151  0.457576  45.8%\n",
       " 5.0      84  0.254545  25.5%\n",
       " 3.0      54  0.163636  16.4%\n",
       " NaN      21  0.063636   6.4%\n",
       " 2.0      13  0.039394   3.9%\n",
       " 1.0       6  0.018182   1.8%\n",
       "-1.0       1  0.003030   0.3%"
      ]
     },
     "metadata": {},
     "output_type": "display_data"
    },
    {
     "name": "stdout",
     "output_type": "stream",
     "text": [
      "count    309.000000\n",
      "mean       3.938511\n",
      "std        0.932515\n",
      "min       -1.000000\n",
      "25%        4.000000\n",
      "50%        4.000000\n",
      "75%        5.000000\n",
      "max        5.000000\n",
      "Name: famrel, dtype: float64\n",
      "\n",
      "Всего 6 значений в столбце famrel , 21 пропусков\n"
     ]
    },
    {
     "data": {
      "image/png": "[encoded data removed]",
      "text/plain": [
       "<Figure size 432x288 with 1 Axes>"
      ]
     },
     "metadata": {},
     "output_type": "display_data"
    }
   ],
   "source": [
    "# Изучаем столбец famrel 25/30\n",
    "\n",
    "print('famrel — семейные отношения (от 1 - очень плохо до 5 - очень хорошо)')\n",
    "\n",
    "cat_col_describe('famrel')"
   ]
  },
  {
   "cell_type": "code",
   "execution_count": 41,
   "metadata": {},
   "outputs": [
    {
     "name": "stdout",
     "output_type": "stream",
     "text": [
      "freetime — свободное время после школы (от 1 - очень мало до 5 - очень мого)\n"
     ]
    },
    {
     "data": {
      "text/html": [
       "<div>\n",
       "<style scoped>\n",
       "    .dataframe tbody tr th:only-of-type {\n",
       "        vertical-align: middle;\n",
       "    }\n",
       "\n",
       "    .dataframe tbody tr th {\n",
       "        vertical-align: top;\n",
       "    }\n",
       "\n",
       "    .dataframe thead th {\n",
       "        text-align: right;\n",
       "    }\n",
       "</style>\n",
       "<table border=\"1\" class=\"dataframe\">\n",
       "  <thead>\n",
       "    <tr style=\"text-align: right;\">\n",
       "      <th></th>\n",
       "      <th>counts</th>\n",
       "      <th>per</th>\n",
       "      <th>per100</th>\n",
       "    </tr>\n",
       "  </thead>\n",
       "  <tbody>\n",
       "    <tr>\n",
       "      <th>3.0</th>\n",
       "      <td>125</td>\n",
       "      <td>0.378788</td>\n",
       "      <td>37.9%</td>\n",
       "    </tr>\n",
       "    <tr>\n",
       "      <th>4.0</th>\n",
       "      <td>95</td>\n",
       "      <td>0.287879</td>\n",
       "      <td>28.8%</td>\n",
       "    </tr>\n",
       "    <tr>\n",
       "      <th>2.0</th>\n",
       "      <td>56</td>\n",
       "      <td>0.169697</td>\n",
       "      <td>17.0%</td>\n",
       "    </tr>\n",
       "    <tr>\n",
       "      <th>5.0</th>\n",
       "      <td>32</td>\n",
       "      <td>0.096970</td>\n",
       "      <td>9.7%</td>\n",
       "    </tr>\n",
       "    <tr>\n",
       "      <th>1.0</th>\n",
       "      <td>16</td>\n",
       "      <td>0.048485</td>\n",
       "      <td>4.8%</td>\n",
       "    </tr>\n",
       "    <tr>\n",
       "      <th>NaN</th>\n",
       "      <td>6</td>\n",
       "      <td>0.018182</td>\n",
       "      <td>1.8%</td>\n",
       "    </tr>\n",
       "  </tbody>\n",
       "</table>\n",
       "</div>"
      ],
      "text/plain": [
       "     counts       per per100\n",
       "3.0     125  0.378788  37.9%\n",
       "4.0      95  0.287879  28.8%\n",
       "2.0      56  0.169697  17.0%\n",
       "5.0      32  0.096970   9.7%\n",
       "1.0      16  0.048485   4.8%\n",
       "NaN       6  0.018182   1.8%"
      ]
     },
     "metadata": {},
     "output_type": "display_data"
    },
    {
     "name": "stdout",
     "output_type": "stream",
     "text": [
      "count    324.000000\n",
      "mean       3.219136\n",
      "std        1.006852\n",
      "min        1.000000\n",
      "25%        3.000000\n",
      "50%        3.000000\n",
      "75%        4.000000\n",
      "max        5.000000\n",
      "Name: freetime, dtype: float64\n",
      "\n",
      "Всего 5 значений в столбце freetime , 6 пропусков\n"
     ]
    },
    {
     "data": {
      "image/png": "[encoded data removed]",
      "text/plain": [
       "<Figure size 432x288 with 1 Axes>"
      ]
     },
     "metadata": {},
     "output_type": "display_data"
    }
   ],
   "source": [
    "# Изучаем столбец freetime 26/30\n",
    "\n",
    "print('freetime — свободное время после школы (от 1 - очень мало до 5 - очень мого)')\n",
    "\n",
    "cat_col_describe('freetime')"
   ]
  },
  {
   "cell_type": "code",
   "execution_count": 42,
   "metadata": {},
   "outputs": [
    {
     "name": "stdout",
     "output_type": "stream",
     "text": [
      "goout — проведение времени с друзьями (от 1 - очень мало до 5 - очень много)\n"
     ]
    },
    {
     "data": {
      "text/html": [
       "<div>\n",
       "<style scoped>\n",
       "    .dataframe tbody tr th:only-of-type {\n",
       "        vertical-align: middle;\n",
       "    }\n",
       "\n",
       "    .dataframe tbody tr th {\n",
       "        vertical-align: top;\n",
       "    }\n",
       "\n",
       "    .dataframe thead th {\n",
       "        text-align: right;\n",
       "    }\n",
       "</style>\n",
       "<table border=\"1\" class=\"dataframe\">\n",
       "  <thead>\n",
       "    <tr style=\"text-align: right;\">\n",
       "      <th></th>\n",
       "      <th>counts</th>\n",
       "      <th>per</th>\n",
       "      <th>per100</th>\n",
       "    </tr>\n",
       "  </thead>\n",
       "  <tbody>\n",
       "    <tr>\n",
       "      <th>3.0</th>\n",
       "      <td>113</td>\n",
       "      <td>0.342424</td>\n",
       "      <td>34.2%</td>\n",
       "    </tr>\n",
       "    <tr>\n",
       "      <th>2.0</th>\n",
       "      <td>84</td>\n",
       "      <td>0.254545</td>\n",
       "      <td>25.5%</td>\n",
       "    </tr>\n",
       "    <tr>\n",
       "      <th>4.0</th>\n",
       "      <td>69</td>\n",
       "      <td>0.209091</td>\n",
       "      <td>20.9%</td>\n",
       "    </tr>\n",
       "    <tr>\n",
       "      <th>5.0</th>\n",
       "      <td>39</td>\n",
       "      <td>0.118182</td>\n",
       "      <td>11.8%</td>\n",
       "    </tr>\n",
       "    <tr>\n",
       "      <th>1.0</th>\n",
       "      <td>19</td>\n",
       "      <td>0.057576</td>\n",
       "      <td>5.8%</td>\n",
       "    </tr>\n",
       "    <tr>\n",
       "      <th>NaN</th>\n",
       "      <td>6</td>\n",
       "      <td>0.018182</td>\n",
       "      <td>1.8%</td>\n",
       "    </tr>\n",
       "  </tbody>\n",
       "</table>\n",
       "</div>"
      ],
      "text/plain": [
       "     counts       per per100\n",
       "3.0     113  0.342424  34.2%\n",
       "2.0      84  0.254545  25.5%\n",
       "4.0      69  0.209091  20.9%\n",
       "5.0      39  0.118182  11.8%\n",
       "1.0      19  0.057576   5.8%\n",
       "NaN       6  0.018182   1.8%"
      ]
     },
     "metadata": {},
     "output_type": "display_data"
    },
    {
     "name": "stdout",
     "output_type": "stream",
     "text": [
      "count    324.000000\n",
      "mean       3.077160\n",
      "std        1.089026\n",
      "min        1.000000\n",
      "25%        2.000000\n",
      "50%        3.000000\n",
      "75%        4.000000\n",
      "max        5.000000\n",
      "Name: goout, dtype: float64\n",
      "\n",
      "Всего 5 значений в столбце goout , 6 пропусков\n"
     ]
    },
    {
     "data": {
      "image/png": "[encoded data removed]",
      "text/plain": [
       "<Figure size 432x288 with 1 Axes>"
      ]
     },
     "metadata": {},
     "output_type": "display_data"
    }
   ],
   "source": [
    "# Изучаем столбец goout 27/30\n",
    "\n",
    "print('goout — проведение времени с друзьями (от 1 - очень мало до 5 - очень много)')\n",
    "\n",
    "cat_col_describe('goout')"
   ]
  },
  {
   "cell_type": "code",
   "execution_count": 43,
   "metadata": {},
   "outputs": [
    {
     "name": "stdout",
     "output_type": "stream",
     "text": [
      "health — текущее состояние здоровья (от 1 - очень плохо до 5 - очень хорошо)\n"
     ]
    },
    {
     "data": {
      "text/html": [
       "<div>\n",
       "<style scoped>\n",
       "    .dataframe tbody tr th:only-of-type {\n",
       "        vertical-align: middle;\n",
       "    }\n",
       "\n",
       "    .dataframe tbody tr th {\n",
       "        vertical-align: top;\n",
       "    }\n",
       "\n",
       "    .dataframe thead th {\n",
       "        text-align: right;\n",
       "    }\n",
       "</style>\n",
       "<table border=\"1\" class=\"dataframe\">\n",
       "  <thead>\n",
       "    <tr style=\"text-align: right;\">\n",
       "      <th></th>\n",
       "      <th>counts</th>\n",
       "      <th>per</th>\n",
       "      <th>per100</th>\n",
       "    </tr>\n",
       "  </thead>\n",
       "  <tbody>\n",
       "    <tr>\n",
       "      <th>5.0</th>\n",
       "      <td>113</td>\n",
       "      <td>0.342424</td>\n",
       "      <td>34.2%</td>\n",
       "    </tr>\n",
       "    <tr>\n",
       "      <th>3.0</th>\n",
       "      <td>76</td>\n",
       "      <td>0.230303</td>\n",
       "      <td>23.0%</td>\n",
       "    </tr>\n",
       "    <tr>\n",
       "      <th>4.0</th>\n",
       "      <td>51</td>\n",
       "      <td>0.154545</td>\n",
       "      <td>15.5%</td>\n",
       "    </tr>\n",
       "    <tr>\n",
       "      <th>1.0</th>\n",
       "      <td>44</td>\n",
       "      <td>0.133333</td>\n",
       "      <td>13.3%</td>\n",
       "    </tr>\n",
       "    <tr>\n",
       "      <th>2.0</th>\n",
       "      <td>34</td>\n",
       "      <td>0.103030</td>\n",
       "      <td>10.3%</td>\n",
       "    </tr>\n",
       "    <tr>\n",
       "      <th>NaN</th>\n",
       "      <td>12</td>\n",
       "      <td>0.036364</td>\n",
       "      <td>3.6%</td>\n",
       "    </tr>\n",
       "  </tbody>\n",
       "</table>\n",
       "</div>"
      ],
      "text/plain": [
       "     counts       per per100\n",
       "5.0     113  0.342424  34.2%\n",
       "3.0      76  0.230303  23.0%\n",
       "4.0      51  0.154545  15.5%\n",
       "1.0      44  0.133333  13.3%\n",
       "2.0      34  0.103030  10.3%\n",
       "NaN      12  0.036364   3.6%"
      ]
     },
     "metadata": {},
     "output_type": "display_data"
    },
    {
     "name": "stdout",
     "output_type": "stream",
     "text": [
      "count    318.000000\n",
      "mean       3.487421\n",
      "std        1.418056\n",
      "min        1.000000\n",
      "25%        3.000000\n",
      "50%        4.000000\n",
      "75%        5.000000\n",
      "max        5.000000\n",
      "Name: health, dtype: float64\n",
      "\n",
      "Всего 5 значений в столбце health , 12 пропусков\n"
     ]
    },
    {
     "data": {
      "image/png": "[encoded data removed]",
      "text/plain": [
       "<Figure size 432x288 with 1 Axes>"
      ]
     },
     "metadata": {},
     "output_type": "display_data"
    }
   ],
   "source": [
    "# Изучаем столбец health 28/30\n",
    "\n",
    "print('health — текущее состояние здоровья (от 1 - очень плохо до 5 - очень хорошо)')\n",
    "\n",
    "cat_col_describe('health')"
   ]
  },
  {
   "cell_type": "code",
   "execution_count": 44,
   "metadata": {},
   "outputs": [
    {
     "name": "stdout",
     "output_type": "stream",
     "text": [
      "absences — количество пропущенных занятий\n"
     ]
    },
    {
     "data": {
      "text/html": [
       "<div>\n",
       "<style scoped>\n",
       "    .dataframe tbody tr th:only-of-type {\n",
       "        vertical-align: middle;\n",
       "    }\n",
       "\n",
       "    .dataframe tbody tr th {\n",
       "        vertical-align: top;\n",
       "    }\n",
       "\n",
       "    .dataframe thead th {\n",
       "        text-align: right;\n",
       "    }\n",
       "</style>\n",
       "<table border=\"1\" class=\"dataframe\">\n",
       "  <thead>\n",
       "    <tr style=\"text-align: right;\">\n",
       "      <th></th>\n",
       "      <th>counts</th>\n",
       "      <th>per</th>\n",
       "      <th>per100</th>\n",
       "    </tr>\n",
       "  </thead>\n",
       "  <tbody>\n",
       "    <tr>\n",
       "      <th>0.0</th>\n",
       "      <td>71</td>\n",
       "      <td>0.215152</td>\n",
       "      <td>21.5%</td>\n",
       "    </tr>\n",
       "    <tr>\n",
       "      <th>2.0</th>\n",
       "      <td>57</td>\n",
       "      <td>0.172727</td>\n",
       "      <td>17.3%</td>\n",
       "    </tr>\n",
       "    <tr>\n",
       "      <th>4.0</th>\n",
       "      <td>47</td>\n",
       "      <td>0.142424</td>\n",
       "      <td>14.2%</td>\n",
       "    </tr>\n",
       "    <tr>\n",
       "      <th>6.0</th>\n",
       "      <td>28</td>\n",
       "      <td>0.084848</td>\n",
       "      <td>8.5%</td>\n",
       "    </tr>\n",
       "    <tr>\n",
       "      <th>8.0</th>\n",
       "      <td>20</td>\n",
       "      <td>0.060606</td>\n",
       "      <td>6.1%</td>\n",
       "    </tr>\n",
       "    <tr>\n",
       "      <th>10.0</th>\n",
       "      <td>15</td>\n",
       "      <td>0.045455</td>\n",
       "      <td>4.5%</td>\n",
       "    </tr>\n",
       "    <tr>\n",
       "      <th>14.0</th>\n",
       "      <td>11</td>\n",
       "      <td>0.033333</td>\n",
       "      <td>3.3%</td>\n",
       "    </tr>\n",
       "    <tr>\n",
       "      <th>12.0</th>\n",
       "      <td>11</td>\n",
       "      <td>0.033333</td>\n",
       "      <td>3.3%</td>\n",
       "    </tr>\n",
       "    <tr>\n",
       "      <th>NaN</th>\n",
       "      <td>10</td>\n",
       "      <td>0.030303</td>\n",
       "      <td>3.0%</td>\n",
       "    </tr>\n",
       "    <tr>\n",
       "      <th>3.0</th>\n",
       "      <td>7</td>\n",
       "      <td>0.021212</td>\n",
       "      <td>2.1%</td>\n",
       "    </tr>\n",
       "    <tr>\n",
       "      <th>16.0</th>\n",
       "      <td>7</td>\n",
       "      <td>0.021212</td>\n",
       "      <td>2.1%</td>\n",
       "    </tr>\n",
       "    <tr>\n",
       "      <th>7.0</th>\n",
       "      <td>5</td>\n",
       "      <td>0.015152</td>\n",
       "      <td>1.5%</td>\n",
       "    </tr>\n",
       "    <tr>\n",
       "      <th>18.0</th>\n",
       "      <td>5</td>\n",
       "      <td>0.015152</td>\n",
       "      <td>1.5%</td>\n",
       "    </tr>\n",
       "    <tr>\n",
       "      <th>5.0</th>\n",
       "      <td>4</td>\n",
       "      <td>0.012121</td>\n",
       "      <td>1.2%</td>\n",
       "    </tr>\n",
       "    <tr>\n",
       "      <th>20.0</th>\n",
       "      <td>4</td>\n",
       "      <td>0.012121</td>\n",
       "      <td>1.2%</td>\n",
       "    </tr>\n",
       "    <tr>\n",
       "      <th>1.0</th>\n",
       "      <td>3</td>\n",
       "      <td>0.009091</td>\n",
       "      <td>0.9%</td>\n",
       "    </tr>\n",
       "    <tr>\n",
       "      <th>22.0</th>\n",
       "      <td>3</td>\n",
       "      <td>0.009091</td>\n",
       "      <td>0.9%</td>\n",
       "    </tr>\n",
       "    <tr>\n",
       "      <th>9.0</th>\n",
       "      <td>3</td>\n",
       "      <td>0.009091</td>\n",
       "      <td>0.9%</td>\n",
       "    </tr>\n",
       "    <tr>\n",
       "      <th>15.0</th>\n",
       "      <td>2</td>\n",
       "      <td>0.006061</td>\n",
       "      <td>0.6%</td>\n",
       "    </tr>\n",
       "    <tr>\n",
       "      <th>13.0</th>\n",
       "      <td>2</td>\n",
       "      <td>0.006061</td>\n",
       "      <td>0.6%</td>\n",
       "    </tr>\n",
       "    <tr>\n",
       "      <th>54.0</th>\n",
       "      <td>1</td>\n",
       "      <td>0.003030</td>\n",
       "      <td>0.3%</td>\n",
       "    </tr>\n",
       "    <tr>\n",
       "      <th>25.0</th>\n",
       "      <td>1</td>\n",
       "      <td>0.003030</td>\n",
       "      <td>0.3%</td>\n",
       "    </tr>\n",
       "    <tr>\n",
       "      <th>385.0</th>\n",
       "      <td>1</td>\n",
       "      <td>0.003030</td>\n",
       "      <td>0.3%</td>\n",
       "    </tr>\n",
       "    <tr>\n",
       "      <th>26.0</th>\n",
       "      <td>1</td>\n",
       "      <td>0.003030</td>\n",
       "      <td>0.3%</td>\n",
       "    </tr>\n",
       "    <tr>\n",
       "      <th>56.0</th>\n",
       "      <td>1</td>\n",
       "      <td>0.003030</td>\n",
       "      <td>0.3%</td>\n",
       "    </tr>\n",
       "    <tr>\n",
       "      <th>212.0</th>\n",
       "      <td>1</td>\n",
       "      <td>0.003030</td>\n",
       "      <td>0.3%</td>\n",
       "    </tr>\n",
       "    <tr>\n",
       "      <th>28.0</th>\n",
       "      <td>1</td>\n",
       "      <td>0.003030</td>\n",
       "      <td>0.3%</td>\n",
       "    </tr>\n",
       "    <tr>\n",
       "      <th>21.0</th>\n",
       "      <td>1</td>\n",
       "      <td>0.003030</td>\n",
       "      <td>0.3%</td>\n",
       "    </tr>\n",
       "    <tr>\n",
       "      <th>75.0</th>\n",
       "      <td>1</td>\n",
       "      <td>0.003030</td>\n",
       "      <td>0.3%</td>\n",
       "    </tr>\n",
       "    <tr>\n",
       "      <th>38.0</th>\n",
       "      <td>1</td>\n",
       "      <td>0.003030</td>\n",
       "      <td>0.3%</td>\n",
       "    </tr>\n",
       "    <tr>\n",
       "      <th>40.0</th>\n",
       "      <td>1</td>\n",
       "      <td>0.003030</td>\n",
       "      <td>0.3%</td>\n",
       "    </tr>\n",
       "    <tr>\n",
       "      <th>23.0</th>\n",
       "      <td>1</td>\n",
       "      <td>0.003030</td>\n",
       "      <td>0.3%</td>\n",
       "    </tr>\n",
       "    <tr>\n",
       "      <th>11.0</th>\n",
       "      <td>1</td>\n",
       "      <td>0.003030</td>\n",
       "      <td>0.3%</td>\n",
       "    </tr>\n",
       "    <tr>\n",
       "      <th>17.0</th>\n",
       "      <td>1</td>\n",
       "      <td>0.003030</td>\n",
       "      <td>0.3%</td>\n",
       "    </tr>\n",
       "    <tr>\n",
       "      <th>24.0</th>\n",
       "      <td>1</td>\n",
       "      <td>0.003030</td>\n",
       "      <td>0.3%</td>\n",
       "    </tr>\n",
       "  </tbody>\n",
       "</table>\n",
       "</div>"
      ],
      "text/plain": [
       "       counts       per per100\n",
       "0.0        71  0.215152  21.5%\n",
       "2.0        57  0.172727  17.3%\n",
       "4.0        47  0.142424  14.2%\n",
       "6.0        28  0.084848   8.5%\n",
       "8.0        20  0.060606   6.1%\n",
       "10.0       15  0.045455   4.5%\n",
       "14.0       11  0.033333   3.3%\n",
       "12.0       11  0.033333   3.3%\n",
       "NaN        10  0.030303   3.0%\n",
       "3.0         7  0.021212   2.1%\n",
       "16.0        7  0.021212   2.1%\n",
       "7.0         5  0.015152   1.5%\n",
       "18.0        5  0.015152   1.5%\n",
       "5.0         4  0.012121   1.2%\n",
       "20.0        4  0.012121   1.2%\n",
       "1.0         3  0.009091   0.9%\n",
       "22.0        3  0.009091   0.9%\n",
       "9.0         3  0.009091   0.9%\n",
       "15.0        2  0.006061   0.6%\n",
       "13.0        2  0.006061   0.6%\n",
       "54.0        1  0.003030   0.3%\n",
       "25.0        1  0.003030   0.3%\n",
       "385.0       1  0.003030   0.3%\n",
       "26.0        1  0.003030   0.3%\n",
       "56.0        1  0.003030   0.3%\n",
       "212.0       1  0.003030   0.3%\n",
       "28.0        1  0.003030   0.3%\n",
       "21.0        1  0.003030   0.3%\n",
       "75.0        1  0.003030   0.3%\n",
       "38.0        1  0.003030   0.3%\n",
       "40.0        1  0.003030   0.3%\n",
       "23.0        1  0.003030   0.3%\n",
       "11.0        1  0.003030   0.3%\n",
       "17.0        1  0.003030   0.3%\n",
       "24.0        1  0.003030   0.3%"
      ]
     },
     "metadata": {},
     "output_type": "display_data"
    },
    {
     "name": "stdout",
     "output_type": "stream",
     "text": [
      "count    320.000000\n",
      "mean       8.159375\n",
      "std       25.476086\n",
      "min        0.000000\n",
      "25%        2.000000\n",
      "50%        4.000000\n",
      "75%        8.000000\n",
      "max      385.000000\n",
      "Name: absences, dtype: float64\n",
      "\n",
      "Всего 34 значений в столбце absences , 10 пропусков\n"
     ]
    },
    {
     "data": {
      "image/png": "[encoded data removed]",
      "text/plain": [
       "<Figure size 432x288 with 1 Axes>"
      ]
     },
     "metadata": {},
     "output_type": "display_data"
    }
   ],
   "source": [
    "# Изучаем столбец absences 29/30\n",
    "\n",
    "print('absences — количество пропущенных занятий')\n",
    "\n",
    "cat_col_describe('absences')"
   ]
  },
  {
   "cell_type": "code",
   "execution_count": null,
   "metadata": {},
   "outputs": [],
   "source": []
  }
 ],
 "metadata": {
  "kernelspec": {
   "display_name": "Python 3",
   "language": "python",
   "name": "python3"
  },
  "language_info": {
   "codemirror_mode": {
    "name": "ipython",
    "version": 3
   },
   "file_extension": ".py",
   "mimetype": "text/x-python",
   "name": "python",
   "nbconvert_exporter": "python",
   "pygments_lexer": "ipython3",
   "version": "3.7.7"
  }
 },
 "nbformat": 4,
 "nbformat_minor": 2
}
